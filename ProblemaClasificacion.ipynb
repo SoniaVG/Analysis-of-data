{
  "nbformat": 4,
  "nbformat_minor": 0,
  "metadata": {
    "colab": {
      "provenance": [],
      "authorship_tag": "ABX9TyOq076iSU1tn9D63vK7MTzb",
      "include_colab_link": true
    },
    "kernelspec": {
      "name": "python3",
      "display_name": "Python 3"
    },
    "language_info": {
      "name": "python"
    }
  },
  "cells": [
    {
      "cell_type": "markdown",
      "metadata": {
        "id": "view-in-github",
        "colab_type": "text"
      },
      "source": [
        "<a href=\"https://colab.research.google.com/github/SoniaVG/Analysis-of-data/blob/main/ProblemaClasificacion.ipynb\" target=\"_parent\"><img src=\"https://colab.research.google.com/assets/colab-badge.svg\" alt=\"Open In Colab\"/></a>"
      ]
    },
    {
      "cell_type": "code",
      "execution_count": 140,
      "metadata": {
        "id": "HmVWUPUFCWY7"
      },
      "outputs": [],
      "source": [
        "# Librerías principales\n",
        "import numpy as np\n",
        "import pandas as pd\n",
        "\n",
        "# para procesamiento\n",
        "from sklearn import preprocessing as pp\n",
        "from sklearn.preprocessing import StandardScaler\n",
        "# Librerías para graficas\n",
        "import matplotlib.pyplot as plt\n",
        "import matplotlib as mpl\n",
        "import seaborn as sns\n",
        "import plotly.express as px\n",
        "color = sns.color_palette()\n",
        "%matplotlib inline"
      ]
    },
    {
      "cell_type": "code",
      "source": [
        "# Librerías modelación de los datos (entrenamiento, evaluación de resultados, reducción de dimensión, transformación)\n",
        "from sklearn.decomposition import PCA\n",
        "from sklearn.preprocessing import MinMaxScaler\n",
        "from sklearn.preprocessing import LabelEncoder\n",
        "from sklearn.model_selection import train_test_split\n",
        "from sklearn.model_selection import RandomizedSearchCV\n",
        "from sklearn.metrics import accuracy_score, precision_score, recall_score\n",
        "from sklearn.metrics import roc_auc_score, roc_curve\n",
        "from sklearn.metrics import f1_score, roc_auc_score, confusion_matrix\n",
        "from sklearn.model_selection import StratifiedKFold, cross_val_score\n",
        "import statsmodels as sm\n",
        "\n",
        "from sklearn.linear_model import LogisticRegression\n",
        "from sklearn.ensemble import GradientBoostingClassifier\n",
        "from sklearn.ensemble import RandomForestClassifier\n",
        "from xgboost import XGBClassifier"
      ],
      "metadata": {
        "id": "KoAZNaSpFZYd"
      },
      "execution_count": 141,
      "outputs": []
    },
    {
      "cell_type": "code",
      "source": [
        "df = pd.read_excel('/content/default of credit card clients.xls',header=0,skiprows=[0])\n",
        "df.head(2)"
      ],
      "metadata": {
        "colab": {
          "base_uri": "https://localhost:8080/",
          "height": 214
        },
        "id": "LiuVbzFCC04y",
        "outputId": "518ce30d-448d-48ec-bac9-1ba03a853af5"
      },
      "execution_count": 142,
      "outputs": [
        {
          "output_type": "execute_result",
          "data": {
            "text/plain": [
              "   ID  LIMIT_BAL  SEX  EDUCATION  MARRIAGE  AGE  PAY_0  PAY_2  PAY_3  PAY_4  \\\n",
              "0   1      20000    2          2         1   24      2      2     -1     -1   \n",
              "1   2     120000    2          2         2   26     -1      2      0      0   \n",
              "\n",
              "   ...  BILL_AMT4  BILL_AMT5  BILL_AMT6  PAY_AMT1  PAY_AMT2  PAY_AMT3  \\\n",
              "0  ...          0          0          0         0       689         0   \n",
              "1  ...       3272       3455       3261         0      1000      1000   \n",
              "\n",
              "   PAY_AMT4  PAY_AMT5  PAY_AMT6  default payment next month  \n",
              "0         0         0         0                           1  \n",
              "1      1000         0      2000                           1  \n",
              "\n",
              "[2 rows x 25 columns]"
            ],
            "text/html": [
              "\n",
              "  <div id=\"df-db1f5347-ff94-4e74-84e0-6d846db3bf66\" class=\"colab-df-container\">\n",
              "    <div>\n",
              "<style scoped>\n",
              "    .dataframe tbody tr th:only-of-type {\n",
              "        vertical-align: middle;\n",
              "    }\n",
              "\n",
              "    .dataframe tbody tr th {\n",
              "        vertical-align: top;\n",
              "    }\n",
              "\n",
              "    .dataframe thead th {\n",
              "        text-align: right;\n",
              "    }\n",
              "</style>\n",
              "<table border=\"1\" class=\"dataframe\">\n",
              "  <thead>\n",
              "    <tr style=\"text-align: right;\">\n",
              "      <th></th>\n",
              "      <th>ID</th>\n",
              "      <th>LIMIT_BAL</th>\n",
              "      <th>SEX</th>\n",
              "      <th>EDUCATION</th>\n",
              "      <th>MARRIAGE</th>\n",
              "      <th>AGE</th>\n",
              "      <th>PAY_0</th>\n",
              "      <th>PAY_2</th>\n",
              "      <th>PAY_3</th>\n",
              "      <th>PAY_4</th>\n",
              "      <th>...</th>\n",
              "      <th>BILL_AMT4</th>\n",
              "      <th>BILL_AMT5</th>\n",
              "      <th>BILL_AMT6</th>\n",
              "      <th>PAY_AMT1</th>\n",
              "      <th>PAY_AMT2</th>\n",
              "      <th>PAY_AMT3</th>\n",
              "      <th>PAY_AMT4</th>\n",
              "      <th>PAY_AMT5</th>\n",
              "      <th>PAY_AMT6</th>\n",
              "      <th>default payment next month</th>\n",
              "    </tr>\n",
              "  </thead>\n",
              "  <tbody>\n",
              "    <tr>\n",
              "      <th>0</th>\n",
              "      <td>1</td>\n",
              "      <td>20000</td>\n",
              "      <td>2</td>\n",
              "      <td>2</td>\n",
              "      <td>1</td>\n",
              "      <td>24</td>\n",
              "      <td>2</td>\n",
              "      <td>2</td>\n",
              "      <td>-1</td>\n",
              "      <td>-1</td>\n",
              "      <td>...</td>\n",
              "      <td>0</td>\n",
              "      <td>0</td>\n",
              "      <td>0</td>\n",
              "      <td>0</td>\n",
              "      <td>689</td>\n",
              "      <td>0</td>\n",
              "      <td>0</td>\n",
              "      <td>0</td>\n",
              "      <td>0</td>\n",
              "      <td>1</td>\n",
              "    </tr>\n",
              "    <tr>\n",
              "      <th>1</th>\n",
              "      <td>2</td>\n",
              "      <td>120000</td>\n",
              "      <td>2</td>\n",
              "      <td>2</td>\n",
              "      <td>2</td>\n",
              "      <td>26</td>\n",
              "      <td>-1</td>\n",
              "      <td>2</td>\n",
              "      <td>0</td>\n",
              "      <td>0</td>\n",
              "      <td>...</td>\n",
              "      <td>3272</td>\n",
              "      <td>3455</td>\n",
              "      <td>3261</td>\n",
              "      <td>0</td>\n",
              "      <td>1000</td>\n",
              "      <td>1000</td>\n",
              "      <td>1000</td>\n",
              "      <td>0</td>\n",
              "      <td>2000</td>\n",
              "      <td>1</td>\n",
              "    </tr>\n",
              "  </tbody>\n",
              "</table>\n",
              "<p>2 rows × 25 columns</p>\n",
              "</div>\n",
              "    <div class=\"colab-df-buttons\">\n",
              "\n",
              "  <div class=\"colab-df-container\">\n",
              "    <button class=\"colab-df-convert\" onclick=\"convertToInteractive('df-db1f5347-ff94-4e74-84e0-6d846db3bf66')\"\n",
              "            title=\"Convert this dataframe to an interactive table.\"\n",
              "            style=\"display:none;\">\n",
              "\n",
              "  <svg xmlns=\"http://www.w3.org/2000/svg\" height=\"24px\" viewBox=\"0 -960 960 960\">\n",
              "    <path d=\"M120-120v-720h720v720H120Zm60-500h600v-160H180v160Zm220 220h160v-160H400v160Zm0 220h160v-160H400v160ZM180-400h160v-160H180v160Zm440 0h160v-160H620v160ZM180-180h160v-160H180v160Zm440 0h160v-160H620v160Z\"/>\n",
              "  </svg>\n",
              "    </button>\n",
              "\n",
              "  <style>\n",
              "    .colab-df-container {\n",
              "      display:flex;\n",
              "      gap: 12px;\n",
              "    }\n",
              "\n",
              "    .colab-df-convert {\n",
              "      background-color: #E8F0FE;\n",
              "      border: none;\n",
              "      border-radius: 50%;\n",
              "      cursor: pointer;\n",
              "      display: none;\n",
              "      fill: #1967D2;\n",
              "      height: 32px;\n",
              "      padding: 0 0 0 0;\n",
              "      width: 32px;\n",
              "    }\n",
              "\n",
              "    .colab-df-convert:hover {\n",
              "      background-color: #E2EBFA;\n",
              "      box-shadow: 0px 1px 2px rgba(60, 64, 67, 0.3), 0px 1px 3px 1px rgba(60, 64, 67, 0.15);\n",
              "      fill: #174EA6;\n",
              "    }\n",
              "\n",
              "    .colab-df-buttons div {\n",
              "      margin-bottom: 4px;\n",
              "    }\n",
              "\n",
              "    [theme=dark] .colab-df-convert {\n",
              "      background-color: #3B4455;\n",
              "      fill: #D2E3FC;\n",
              "    }\n",
              "\n",
              "    [theme=dark] .colab-df-convert:hover {\n",
              "      background-color: #434B5C;\n",
              "      box-shadow: 0px 1px 3px 1px rgba(0, 0, 0, 0.15);\n",
              "      filter: drop-shadow(0px 1px 2px rgba(0, 0, 0, 0.3));\n",
              "      fill: #FFFFFF;\n",
              "    }\n",
              "  </style>\n",
              "\n",
              "    <script>\n",
              "      const buttonEl =\n",
              "        document.querySelector('#df-db1f5347-ff94-4e74-84e0-6d846db3bf66 button.colab-df-convert');\n",
              "      buttonEl.style.display =\n",
              "        google.colab.kernel.accessAllowed ? 'block' : 'none';\n",
              "\n",
              "      async function convertToInteractive(key) {\n",
              "        const element = document.querySelector('#df-db1f5347-ff94-4e74-84e0-6d846db3bf66');\n",
              "        const dataTable =\n",
              "          await google.colab.kernel.invokeFunction('convertToInteractive',\n",
              "                                                    [key], {});\n",
              "        if (!dataTable) return;\n",
              "\n",
              "        const docLinkHtml = 'Like what you see? Visit the ' +\n",
              "          '<a target=\"_blank\" href=https://colab.research.google.com/notebooks/data_table.ipynb>data table notebook</a>'\n",
              "          + ' to learn more about interactive tables.';\n",
              "        element.innerHTML = '';\n",
              "        dataTable['output_type'] = 'display_data';\n",
              "        await google.colab.output.renderOutput(dataTable, element);\n",
              "        const docLink = document.createElement('div');\n",
              "        docLink.innerHTML = docLinkHtml;\n",
              "        element.appendChild(docLink);\n",
              "      }\n",
              "    </script>\n",
              "  </div>\n",
              "\n",
              "\n",
              "    <div id=\"df-71297420-aa15-41fd-9fe2-98aecbd19e82\">\n",
              "      <button class=\"colab-df-quickchart\" onclick=\"quickchart('df-71297420-aa15-41fd-9fe2-98aecbd19e82')\"\n",
              "                title=\"Suggest charts\"\n",
              "                style=\"display:none;\">\n",
              "\n",
              "<svg xmlns=\"http://www.w3.org/2000/svg\" height=\"24px\"viewBox=\"0 0 24 24\"\n",
              "     width=\"24px\">\n",
              "    <g>\n",
              "        <path d=\"M19 3H5c-1.1 0-2 .9-2 2v14c0 1.1.9 2 2 2h14c1.1 0 2-.9 2-2V5c0-1.1-.9-2-2-2zM9 17H7v-7h2v7zm4 0h-2V7h2v10zm4 0h-2v-4h2v4z\"/>\n",
              "    </g>\n",
              "</svg>\n",
              "      </button>\n",
              "\n",
              "<style>\n",
              "  .colab-df-quickchart {\n",
              "      --bg-color: #E8F0FE;\n",
              "      --fill-color: #1967D2;\n",
              "      --hover-bg-color: #E2EBFA;\n",
              "      --hover-fill-color: #174EA6;\n",
              "      --disabled-fill-color: #AAA;\n",
              "      --disabled-bg-color: #DDD;\n",
              "  }\n",
              "\n",
              "  [theme=dark] .colab-df-quickchart {\n",
              "      --bg-color: #3B4455;\n",
              "      --fill-color: #D2E3FC;\n",
              "      --hover-bg-color: #434B5C;\n",
              "      --hover-fill-color: #FFFFFF;\n",
              "      --disabled-bg-color: #3B4455;\n",
              "      --disabled-fill-color: #666;\n",
              "  }\n",
              "\n",
              "  .colab-df-quickchart {\n",
              "    background-color: var(--bg-color);\n",
              "    border: none;\n",
              "    border-radius: 50%;\n",
              "    cursor: pointer;\n",
              "    display: none;\n",
              "    fill: var(--fill-color);\n",
              "    height: 32px;\n",
              "    padding: 0;\n",
              "    width: 32px;\n",
              "  }\n",
              "\n",
              "  .colab-df-quickchart:hover {\n",
              "    background-color: var(--hover-bg-color);\n",
              "    box-shadow: 0 1px 2px rgba(60, 64, 67, 0.3), 0 1px 3px 1px rgba(60, 64, 67, 0.15);\n",
              "    fill: var(--button-hover-fill-color);\n",
              "  }\n",
              "\n",
              "  .colab-df-quickchart-complete:disabled,\n",
              "  .colab-df-quickchart-complete:disabled:hover {\n",
              "    background-color: var(--disabled-bg-color);\n",
              "    fill: var(--disabled-fill-color);\n",
              "    box-shadow: none;\n",
              "  }\n",
              "\n",
              "  .colab-df-spinner {\n",
              "    border: 2px solid var(--fill-color);\n",
              "    border-color: transparent;\n",
              "    border-bottom-color: var(--fill-color);\n",
              "    animation:\n",
              "      spin 1s steps(1) infinite;\n",
              "  }\n",
              "\n",
              "  @keyframes spin {\n",
              "    0% {\n",
              "      border-color: transparent;\n",
              "      border-bottom-color: var(--fill-color);\n",
              "      border-left-color: var(--fill-color);\n",
              "    }\n",
              "    20% {\n",
              "      border-color: transparent;\n",
              "      border-left-color: var(--fill-color);\n",
              "      border-top-color: var(--fill-color);\n",
              "    }\n",
              "    30% {\n",
              "      border-color: transparent;\n",
              "      border-left-color: var(--fill-color);\n",
              "      border-top-color: var(--fill-color);\n",
              "      border-right-color: var(--fill-color);\n",
              "    }\n",
              "    40% {\n",
              "      border-color: transparent;\n",
              "      border-right-color: var(--fill-color);\n",
              "      border-top-color: var(--fill-color);\n",
              "    }\n",
              "    60% {\n",
              "      border-color: transparent;\n",
              "      border-right-color: var(--fill-color);\n",
              "    }\n",
              "    80% {\n",
              "      border-color: transparent;\n",
              "      border-right-color: var(--fill-color);\n",
              "      border-bottom-color: var(--fill-color);\n",
              "    }\n",
              "    90% {\n",
              "      border-color: transparent;\n",
              "      border-bottom-color: var(--fill-color);\n",
              "    }\n",
              "  }\n",
              "</style>\n",
              "\n",
              "      <script>\n",
              "        async function quickchart(key) {\n",
              "          const quickchartButtonEl =\n",
              "            document.querySelector('#' + key + ' button');\n",
              "          quickchartButtonEl.disabled = true;  // To prevent multiple clicks.\n",
              "          quickchartButtonEl.classList.add('colab-df-spinner');\n",
              "          try {\n",
              "            const charts = await google.colab.kernel.invokeFunction(\n",
              "                'suggestCharts', [key], {});\n",
              "          } catch (error) {\n",
              "            console.error('Error during call to suggestCharts:', error);\n",
              "          }\n",
              "          quickchartButtonEl.classList.remove('colab-df-spinner');\n",
              "          quickchartButtonEl.classList.add('colab-df-quickchart-complete');\n",
              "        }\n",
              "        (() => {\n",
              "          let quickchartButtonEl =\n",
              "            document.querySelector('#df-71297420-aa15-41fd-9fe2-98aecbd19e82 button');\n",
              "          quickchartButtonEl.style.display =\n",
              "            google.colab.kernel.accessAllowed ? 'block' : 'none';\n",
              "        })();\n",
              "      </script>\n",
              "    </div>\n",
              "\n",
              "    </div>\n",
              "  </div>\n"
            ],
            "application/vnd.google.colaboratory.intrinsic+json": {
              "type": "dataframe",
              "variable_name": "df"
            }
          },
          "metadata": {},
          "execution_count": 142
        }
      ]
    },
    {
      "cell_type": "markdown",
      "source": [
        "## <font color=\"darkred\">Análisis de los datos usando gráficas  </font>"
      ],
      "metadata": {
        "id": "0eSddzeuGeeS"
      }
    },
    {
      "cell_type": "code",
      "source": [
        "# Distribución de algunas variables categoricas y numericas\n",
        "def descripcion(variables, df, Color, tipo_variable):\n",
        "  fig, axes = plt.subplots(1, len(variables))\n",
        "  for var, pos in zip(variables, np.arange(len(variables))):\n",
        "    if tipo_variable==\"den\":\n",
        "      b = sns.kdeplot(x  = var, data=df, color =Color,ax=axes[pos])\n",
        "      b.set_xlabel(var,fontsize=8)\n",
        "      b.set_ylabel('Density',fontsize=8)\n",
        "      b.tick_params(labelsize=8)\n",
        "    else:\n",
        "      b = sns.countplot(x  = var, data=df, color =Color,saturation = 0.75,ax=axes[pos])\n",
        "      b.set_xlabel(var,fontsize=8)\n",
        "      b.set_ylabel('count',fontsize=8)\n",
        "      b.tick_params(labelsize=8)\n",
        "  plt.tight_layout()\n",
        "  plt.show()"
      ],
      "metadata": {
        "id": "sCTjzjg5_qmM"
      },
      "execution_count": null,
      "outputs": []
    },
    {
      "cell_type": "code",
      "source": [
        "# grafica de tada la data\n",
        "descripcion(['LIMIT_BAL','AGE'], df, \"red\",'den')\n",
        "print('GRAFICA IMCUMPLIERON')\n",
        "descripcion(['LIMIT_BAL','AGE'], df[df['default payment next month']==1], \"blue\",'den')\n",
        "print('GRAFICA NO IMCUMPLIERON')\n",
        "descripcion(['LIMIT_BAL','AGE'], df[df['default payment next month']==0], \"blue\",'den')\n"
      ],
      "metadata": {
        "colab": {
          "base_uri": "https://localhost:8080/",
          "height": 1000
        },
        "id": "4mjGicQ5B2sz",
        "outputId": "85154fd6-4109-4a63-d783-0afba62eea83"
      },
      "execution_count": null,
      "outputs": [
        {
          "output_type": "display_data",
          "data": {
            "text/plain": [
              "<Figure size 640x480 with 2 Axes>"
            ],
            "image/png": "[encoded data removed]"
          },
          "metadata": {}
        },
        {
          "output_type": "stream",
          "name": "stdout",
          "text": [
            "GRAFICA IMCUMPLIERON\n"
          ]
        },
        {
          "output_type": "display_data",
          "data": {
            "text/plain": [
              "<Figure size 640x480 with 2 Axes>"
            ],
            "image/png": "[encoded data removed]"
          },
          "metadata": {}
        },
        {
          "output_type": "stream",
          "name": "stdout",
          "text": [
            "GRAFICA NO IMCUMPLIERON\n"
          ]
        },
        {
          "output_type": "display_data",
          "data": {
            "text/plain": [
              "<Figure size 640x480 with 2 Axes>"
            ],
            "image/png": "[encoded data removed]"
          },
          "metadata": {}
        }
      ]
    },
    {
      "cell_type": "code",
      "source": [
        "descripcion(['SEX','EDUCATION'], df, \"darkseagreen\",'cat')\n",
        "descripcion(['MARRIAGE','default payment next month'], df,\"darkseagreen\",'cat')"
      ],
      "metadata": {
        "id": "Ha6onKqQZu3L",
        "colab": {
          "base_uri": "https://localhost:8080/",
          "height": 957
        },
        "outputId": "0f540dc6-173f-491c-a2f2-9a42ad227182"
      },
      "execution_count": null,
      "outputs": [
        {
          "output_type": "display_data",
          "data": {
            "text/plain": [
              "<Figure size 640x480 with 2 Axes>"
            ],
            "image/png": "[encoded data removed]"
          },
          "metadata": {}
        },
        {
          "output_type": "display_data",
          "data": {
            "text/plain": [
              "<Figure size 640x480 with 2 Axes>"
            ],
            "image/png": "[encoded data removed]"
          },
          "metadata": {}
        }
      ]
    },
    {
      "cell_type": "code",
      "source": [],
      "metadata": {
        "id": "jbhQ963l8k4X"
      },
      "execution_count": null,
      "outputs": []
    },
    {
      "cell_type": "code",
      "source": [
        "# Distribucion por Conteos\n",
        "def conteos(variables, var_agrupado):\n",
        "  agrupado =  df[variables].groupby(var_agrupado,as_index=False).value_counts()\n",
        "  agrupado = agrupado.rename(columns={'count':'conteo'})\n",
        "  agrupado['porc%'] = agrupado.conteo/agrupado.conteo.sum()*100\n",
        "  return agrupado"
      ],
      "metadata": {
        "id": "RTQ0fnPGMh4t"
      },
      "execution_count": null,
      "outputs": []
    },
    {
      "cell_type": "code",
      "source": [
        "# Proporciones de las variable objetivo: 'default payment next month'\n",
        "# Verificamos que las clases son desbalanceadas\n",
        "conteos(['default payment next month'], ['default payment next month'])"
      ],
      "metadata": {
        "colab": {
          "base_uri": "https://localhost:8080/",
          "height": 112
        },
        "id": "u5W8_MPPSmmI",
        "outputId": "b768f90e-e4f0-4fb6-c5a9-eb0d40cd0010"
      },
      "execution_count": null,
      "outputs": [
        {
          "output_type": "execute_result",
          "data": {
            "text/plain": [
              "   default payment next month  conteo  porc%\n",
              "0                           0   23364  77.88\n",
              "1                           1    6636  22.12"
            ],
            "text/html": [
              "\n",
              "  <div id=\"df-214b0b71-750e-4d99-8b8b-351501844591\" class=\"colab-df-container\">\n",
              "    <div>\n",
              "<style scoped>\n",
              "    .dataframe tbody tr th:only-of-type {\n",
              "        vertical-align: middle;\n",
              "    }\n",
              "\n",
              "    .dataframe tbody tr th {\n",
              "        vertical-align: top;\n",
              "    }\n",
              "\n",
              "    .dataframe thead th {\n",
              "        text-align: right;\n",
              "    }\n",
              "</style>\n",
              "<table border=\"1\" class=\"dataframe\">\n",
              "  <thead>\n",
              "    <tr style=\"text-align: right;\">\n",
              "      <th></th>\n",
              "      <th>default payment next month</th>\n",
              "      <th>conteo</th>\n",
              "      <th>porc%</th>\n",
              "    </tr>\n",
              "  </thead>\n",
              "  <tbody>\n",
              "    <tr>\n",
              "      <th>0</th>\n",
              "      <td>0</td>\n",
              "      <td>23364</td>\n",
              "      <td>77.88</td>\n",
              "    </tr>\n",
              "    <tr>\n",
              "      <th>1</th>\n",
              "      <td>1</td>\n",
              "      <td>6636</td>\n",
              "      <td>22.12</td>\n",
              "    </tr>\n",
              "  </tbody>\n",
              "</table>\n",
              "</div>\n",
              "    <div class=\"colab-df-buttons\">\n",
              "\n",
              "  <div class=\"colab-df-container\">\n",
              "    <button class=\"colab-df-convert\" onclick=\"convertToInteractive('df-214b0b71-750e-4d99-8b8b-351501844591')\"\n",
              "            title=\"Convert this dataframe to an interactive table.\"\n",
              "            style=\"display:none;\">\n",
              "\n",
              "  <svg xmlns=\"http://www.w3.org/2000/svg\" height=\"24px\" viewBox=\"0 -960 960 960\">\n",
              "    <path d=\"M120-120v-720h720v720H120Zm60-500h600v-160H180v160Zm220 220h160v-160H400v160Zm0 220h160v-160H400v160ZM180-400h160v-160H180v160Zm440 0h160v-160H620v160ZM180-180h160v-160H180v160Zm440 0h160v-160H620v160Z\"/>\n",
              "  </svg>\n",
              "    </button>\n",
              "\n",
              "  <style>\n",
              "    .colab-df-container {\n",
              "      display:flex;\n",
              "      gap: 12px;\n",
              "    }\n",
              "\n",
              "    .colab-df-convert {\n",
              "      background-color: #E8F0FE;\n",
              "      border: none;\n",
              "      border-radius: 50%;\n",
              "      cursor: pointer;\n",
              "      display: none;\n",
              "      fill: #1967D2;\n",
              "      height: 32px;\n",
              "      padding: 0 0 0 0;\n",
              "      width: 32px;\n",
              "    }\n",
              "\n",
              "    .colab-df-convert:hover {\n",
              "      background-color: #E2EBFA;\n",
              "      box-shadow: 0px 1px 2px rgba(60, 64, 67, 0.3), 0px 1px 3px 1px rgba(60, 64, 67, 0.15);\n",
              "      fill: #174EA6;\n",
              "    }\n",
              "\n",
              "    .colab-df-buttons div {\n",
              "      margin-bottom: 4px;\n",
              "    }\n",
              "\n",
              "    [theme=dark] .colab-df-convert {\n",
              "      background-color: #3B4455;\n",
              "      fill: #D2E3FC;\n",
              "    }\n",
              "\n",
              "    [theme=dark] .colab-df-convert:hover {\n",
              "      background-color: #434B5C;\n",
              "      box-shadow: 0px 1px 3px 1px rgba(0, 0, 0, 0.15);\n",
              "      filter: drop-shadow(0px 1px 2px rgba(0, 0, 0, 0.3));\n",
              "      fill: #FFFFFF;\n",
              "    }\n",
              "  </style>\n",
              "\n",
              "    <script>\n",
              "      const buttonEl =\n",
              "        document.querySelector('#df-214b0b71-750e-4d99-8b8b-351501844591 button.colab-df-convert');\n",
              "      buttonEl.style.display =\n",
              "        google.colab.kernel.accessAllowed ? 'block' : 'none';\n",
              "\n",
              "      async function convertToInteractive(key) {\n",
              "        const element = document.querySelector('#df-214b0b71-750e-4d99-8b8b-351501844591');\n",
              "        const dataTable =\n",
              "          await google.colab.kernel.invokeFunction('convertToInteractive',\n",
              "                                                    [key], {});\n",
              "        if (!dataTable) return;\n",
              "\n",
              "        const docLinkHtml = 'Like what you see? Visit the ' +\n",
              "          '<a target=\"_blank\" href=https://colab.research.google.com/notebooks/data_table.ipynb>data table notebook</a>'\n",
              "          + ' to learn more about interactive tables.';\n",
              "        element.innerHTML = '';\n",
              "        dataTable['output_type'] = 'display_data';\n",
              "        await google.colab.output.renderOutput(dataTable, element);\n",
              "        const docLink = document.createElement('div');\n",
              "        docLink.innerHTML = docLinkHtml;\n",
              "        element.appendChild(docLink);\n",
              "      }\n",
              "    </script>\n",
              "  </div>\n",
              "\n",
              "\n",
              "    <div id=\"df-583ab800-5e76-46bd-8aa2-24fdbc33e92f\">\n",
              "      <button class=\"colab-df-quickchart\" onclick=\"quickchart('df-583ab800-5e76-46bd-8aa2-24fdbc33e92f')\"\n",
              "                title=\"Suggest charts\"\n",
              "                style=\"display:none;\">\n",
              "\n",
              "<svg xmlns=\"http://www.w3.org/2000/svg\" height=\"24px\"viewBox=\"0 0 24 24\"\n",
              "     width=\"24px\">\n",
              "    <g>\n",
              "        <path d=\"M19 3H5c-1.1 0-2 .9-2 2v14c0 1.1.9 2 2 2h14c1.1 0 2-.9 2-2V5c0-1.1-.9-2-2-2zM9 17H7v-7h2v7zm4 0h-2V7h2v10zm4 0h-2v-4h2v4z\"/>\n",
              "    </g>\n",
              "</svg>\n",
              "      </button>\n",
              "\n",
              "<style>\n",
              "  .colab-df-quickchart {\n",
              "      --bg-color: #E8F0FE;\n",
              "      --fill-color: #1967D2;\n",
              "      --hover-bg-color: #E2EBFA;\n",
              "      --hover-fill-color: #174EA6;\n",
              "      --disabled-fill-color: #AAA;\n",
              "      --disabled-bg-color: #DDD;\n",
              "  }\n",
              "\n",
              "  [theme=dark] .colab-df-quickchart {\n",
              "      --bg-color: #3B4455;\n",
              "      --fill-color: #D2E3FC;\n",
              "      --hover-bg-color: #434B5C;\n",
              "      --hover-fill-color: #FFFFFF;\n",
              "      --disabled-bg-color: #3B4455;\n",
              "      --disabled-fill-color: #666;\n",
              "  }\n",
              "\n",
              "  .colab-df-quickchart {\n",
              "    background-color: var(--bg-color);\n",
              "    border: none;\n",
              "    border-radius: 50%;\n",
              "    cursor: pointer;\n",
              "    display: none;\n",
              "    fill: var(--fill-color);\n",
              "    height: 32px;\n",
              "    padding: 0;\n",
              "    width: 32px;\n",
              "  }\n",
              "\n",
              "  .colab-df-quickchart:hover {\n",
              "    background-color: var(--hover-bg-color);\n",
              "    box-shadow: 0 1px 2px rgba(60, 64, 67, 0.3), 0 1px 3px 1px rgba(60, 64, 67, 0.15);\n",
              "    fill: var(--button-hover-fill-color);\n",
              "  }\n",
              "\n",
              "  .colab-df-quickchart-complete:disabled,\n",
              "  .colab-df-quickchart-complete:disabled:hover {\n",
              "    background-color: var(--disabled-bg-color);\n",
              "    fill: var(--disabled-fill-color);\n",
              "    box-shadow: none;\n",
              "  }\n",
              "\n",
              "  .colab-df-spinner {\n",
              "    border: 2px solid var(--fill-color);\n",
              "    border-color: transparent;\n",
              "    border-bottom-color: var(--fill-color);\n",
              "    animation:\n",
              "      spin 1s steps(1) infinite;\n",
              "  }\n",
              "\n",
              "  @keyframes spin {\n",
              "    0% {\n",
              "      border-color: transparent;\n",
              "      border-bottom-color: var(--fill-color);\n",
              "      border-left-color: var(--fill-color);\n",
              "    }\n",
              "    20% {\n",
              "      border-color: transparent;\n",
              "      border-left-color: var(--fill-color);\n",
              "      border-top-color: var(--fill-color);\n",
              "    }\n",
              "    30% {\n",
              "      border-color: transparent;\n",
              "      border-left-color: var(--fill-color);\n",
              "      border-top-color: var(--fill-color);\n",
              "      border-right-color: var(--fill-color);\n",
              "    }\n",
              "    40% {\n",
              "      border-color: transparent;\n",
              "      border-right-color: var(--fill-color);\n",
              "      border-top-color: var(--fill-color);\n",
              "    }\n",
              "    60% {\n",
              "      border-color: transparent;\n",
              "      border-right-color: var(--fill-color);\n",
              "    }\n",
              "    80% {\n",
              "      border-color: transparent;\n",
              "      border-right-color: var(--fill-color);\n",
              "      border-bottom-color: var(--fill-color);\n",
              "    }\n",
              "    90% {\n",
              "      border-color: transparent;\n",
              "      border-bottom-color: var(--fill-color);\n",
              "    }\n",
              "  }\n",
              "</style>\n",
              "\n",
              "      <script>\n",
              "        async function quickchart(key) {\n",
              "          const quickchartButtonEl =\n",
              "            document.querySelector('#' + key + ' button');\n",
              "          quickchartButtonEl.disabled = true;  // To prevent multiple clicks.\n",
              "          quickchartButtonEl.classList.add('colab-df-spinner');\n",
              "          try {\n",
              "            const charts = await google.colab.kernel.invokeFunction(\n",
              "                'suggestCharts', [key], {});\n",
              "          } catch (error) {\n",
              "            console.error('Error during call to suggestCharts:', error);\n",
              "          }\n",
              "          quickchartButtonEl.classList.remove('colab-df-spinner');\n",
              "          quickchartButtonEl.classList.add('colab-df-quickchart-complete');\n",
              "        }\n",
              "        (() => {\n",
              "          let quickchartButtonEl =\n",
              "            document.querySelector('#df-583ab800-5e76-46bd-8aa2-24fdbc33e92f button');\n",
              "          quickchartButtonEl.style.display =\n",
              "            google.colab.kernel.accessAllowed ? 'block' : 'none';\n",
              "        })();\n",
              "      </script>\n",
              "    </div>\n",
              "\n",
              "    </div>\n",
              "  </div>\n"
            ],
            "application/vnd.google.colaboratory.intrinsic+json": {
              "type": "dataframe",
              "summary": "{\n  \"name\": \"conteos(['default payment next month'], ['default payment next month'])\",\n  \"rows\": 2,\n  \"fields\": [\n    {\n      \"column\": \"default payment next month\",\n      \"properties\": {\n        \"dtype\": \"number\",\n        \"std\": 0,\n        \"min\": 0,\n        \"max\": 1,\n        \"num_unique_values\": 2,\n        \"samples\": [\n          1,\n          0\n        ],\n        \"semantic_type\": \"\",\n        \"description\": \"\"\n      }\n    },\n    {\n      \"column\": \"conteo\",\n      \"properties\": {\n        \"dtype\": \"number\",\n        \"std\": 11828,\n        \"min\": 6636,\n        \"max\": 23364,\n        \"num_unique_values\": 2,\n        \"samples\": [\n          6636,\n          23364\n        ],\n        \"semantic_type\": \"\",\n        \"description\": \"\"\n      }\n    },\n    {\n      \"column\": \"porc%\",\n      \"properties\": {\n        \"dtype\": \"number\",\n        \"std\": 39.428274118961895,\n        \"min\": 22.12,\n        \"max\": 77.88000000000001,\n        \"num_unique_values\": 2,\n        \"samples\": [\n          22.12,\n          77.88000000000001\n        ],\n        \"semantic_type\": \"\",\n        \"description\": \"\"\n      }\n    }\n  ]\n}"
            }
          },
          "metadata": {},
          "execution_count": 10
        }
      ]
    },
    {
      "cell_type": "code",
      "source": [
        "# Sólo para ver si las proporciones de los segmentos con estas 2 variables se mantienen ¨similares¨\n",
        "#.................................................................................................\n",
        "conteos(['default payment next month','SEX'], ['default payment next month','SEX'])"
      ],
      "metadata": {
        "colab": {
          "base_uri": "https://localhost:8080/",
          "height": 175
        },
        "id": "6NzA0V9yOaIX",
        "outputId": "bbcc496d-59f6-45e1-826e-9a17995c6a2a"
      },
      "execution_count": null,
      "outputs": [
        {
          "output_type": "execute_result",
          "data": {
            "text/plain": [
              "   default payment next month  SEX  conteo      porc%\n",
              "0                           0    1    9015  30.050000\n",
              "1                           0    2   14349  47.830000\n",
              "2                           1    1    2873   9.576667\n",
              "3                           1    2    3763  12.543333"
            ],
            "text/html": [
              "\n",
              "  <div id=\"df-e511fc8f-795a-469d-9db3-4e84160b38f4\" class=\"colab-df-container\">\n",
              "    <div>\n",
              "<style scoped>\n",
              "    .dataframe tbody tr th:only-of-type {\n",
              "        vertical-align: middle;\n",
              "    }\n",
              "\n",
              "    .dataframe tbody tr th {\n",
              "        vertical-align: top;\n",
              "    }\n",
              "\n",
              "    .dataframe thead th {\n",
              "        text-align: right;\n",
              "    }\n",
              "</style>\n",
              "<table border=\"1\" class=\"dataframe\">\n",
              "  <thead>\n",
              "    <tr style=\"text-align: right;\">\n",
              "      <th></th>\n",
              "      <th>default payment next month</th>\n",
              "      <th>SEX</th>\n",
              "      <th>conteo</th>\n",
              "      <th>porc%</th>\n",
              "    </tr>\n",
              "  </thead>\n",
              "  <tbody>\n",
              "    <tr>\n",
              "      <th>0</th>\n",
              "      <td>0</td>\n",
              "      <td>1</td>\n",
              "      <td>9015</td>\n",
              "      <td>30.050000</td>\n",
              "    </tr>\n",
              "    <tr>\n",
              "      <th>1</th>\n",
              "      <td>0</td>\n",
              "      <td>2</td>\n",
              "      <td>14349</td>\n",
              "      <td>47.830000</td>\n",
              "    </tr>\n",
              "    <tr>\n",
              "      <th>2</th>\n",
              "      <td>1</td>\n",
              "      <td>1</td>\n",
              "      <td>2873</td>\n",
              "      <td>9.576667</td>\n",
              "    </tr>\n",
              "    <tr>\n",
              "      <th>3</th>\n",
              "      <td>1</td>\n",
              "      <td>2</td>\n",
              "      <td>3763</td>\n",
              "      <td>12.543333</td>\n",
              "    </tr>\n",
              "  </tbody>\n",
              "</table>\n",
              "</div>\n",
              "    <div class=\"colab-df-buttons\">\n",
              "\n",
              "  <div class=\"colab-df-container\">\n",
              "    <button class=\"colab-df-convert\" onclick=\"convertToInteractive('df-e511fc8f-795a-469d-9db3-4e84160b38f4')\"\n",
              "            title=\"Convert this dataframe to an interactive table.\"\n",
              "            style=\"display:none;\">\n",
              "\n",
              "  <svg xmlns=\"http://www.w3.org/2000/svg\" height=\"24px\" viewBox=\"0 -960 960 960\">\n",
              "    <path d=\"M120-120v-720h720v720H120Zm60-500h600v-160H180v160Zm220 220h160v-160H400v160Zm0 220h160v-160H400v160ZM180-400h160v-160H180v160Zm440 0h160v-160H620v160ZM180-180h160v-160H180v160Zm440 0h160v-160H620v160Z\"/>\n",
              "  </svg>\n",
              "    </button>\n",
              "\n",
              "  <style>\n",
              "    .colab-df-container {\n",
              "      display:flex;\n",
              "      gap: 12px;\n",
              "    }\n",
              "\n",
              "    .colab-df-convert {\n",
              "      background-color: #E8F0FE;\n",
              "      border: none;\n",
              "      border-radius: 50%;\n",
              "      cursor: pointer;\n",
              "      display: none;\n",
              "      fill: #1967D2;\n",
              "      height: 32px;\n",
              "      padding: 0 0 0 0;\n",
              "      width: 32px;\n",
              "    }\n",
              "\n",
              "    .colab-df-convert:hover {\n",
              "      background-color: #E2EBFA;\n",
              "      box-shadow: 0px 1px 2px rgba(60, 64, 67, 0.3), 0px 1px 3px 1px rgba(60, 64, 67, 0.15);\n",
              "      fill: #174EA6;\n",
              "    }\n",
              "\n",
              "    .colab-df-buttons div {\n",
              "      margin-bottom: 4px;\n",
              "    }\n",
              "\n",
              "    [theme=dark] .colab-df-convert {\n",
              "      background-color: #3B4455;\n",
              "      fill: #D2E3FC;\n",
              "    }\n",
              "\n",
              "    [theme=dark] .colab-df-convert:hover {\n",
              "      background-color: #434B5C;\n",
              "      box-shadow: 0px 1px 3px 1px rgba(0, 0, 0, 0.15);\n",
              "      filter: drop-shadow(0px 1px 2px rgba(0, 0, 0, 0.3));\n",
              "      fill: #FFFFFF;\n",
              "    }\n",
              "  </style>\n",
              "\n",
              "    <script>\n",
              "      const buttonEl =\n",
              "        document.querySelector('#df-e511fc8f-795a-469d-9db3-4e84160b38f4 button.colab-df-convert');\n",
              "      buttonEl.style.display =\n",
              "        google.colab.kernel.accessAllowed ? 'block' : 'none';\n",
              "\n",
              "      async function convertToInteractive(key) {\n",
              "        const element = document.querySelector('#df-e511fc8f-795a-469d-9db3-4e84160b38f4');\n",
              "        const dataTable =\n",
              "          await google.colab.kernel.invokeFunction('convertToInteractive',\n",
              "                                                    [key], {});\n",
              "        if (!dataTable) return;\n",
              "\n",
              "        const docLinkHtml = 'Like what you see? Visit the ' +\n",
              "          '<a target=\"_blank\" href=https://colab.research.google.com/notebooks/data_table.ipynb>data table notebook</a>'\n",
              "          + ' to learn more about interactive tables.';\n",
              "        element.innerHTML = '';\n",
              "        dataTable['output_type'] = 'display_data';\n",
              "        await google.colab.output.renderOutput(dataTable, element);\n",
              "        const docLink = document.createElement('div');\n",
              "        docLink.innerHTML = docLinkHtml;\n",
              "        element.appendChild(docLink);\n",
              "      }\n",
              "    </script>\n",
              "  </div>\n",
              "\n",
              "\n",
              "    <div id=\"df-65a2dcfa-1e1c-40a4-8eca-233001202d1e\">\n",
              "      <button class=\"colab-df-quickchart\" onclick=\"quickchart('df-65a2dcfa-1e1c-40a4-8eca-233001202d1e')\"\n",
              "                title=\"Suggest charts\"\n",
              "                style=\"display:none;\">\n",
              "\n",
              "<svg xmlns=\"http://www.w3.org/2000/svg\" height=\"24px\"viewBox=\"0 0 24 24\"\n",
              "     width=\"24px\">\n",
              "    <g>\n",
              "        <path d=\"M19 3H5c-1.1 0-2 .9-2 2v14c0 1.1.9 2 2 2h14c1.1 0 2-.9 2-2V5c0-1.1-.9-2-2-2zM9 17H7v-7h2v7zm4 0h-2V7h2v10zm4 0h-2v-4h2v4z\"/>\n",
              "    </g>\n",
              "</svg>\n",
              "      </button>\n",
              "\n",
              "<style>\n",
              "  .colab-df-quickchart {\n",
              "      --bg-color: #E8F0FE;\n",
              "      --fill-color: #1967D2;\n",
              "      --hover-bg-color: #E2EBFA;\n",
              "      --hover-fill-color: #174EA6;\n",
              "      --disabled-fill-color: #AAA;\n",
              "      --disabled-bg-color: #DDD;\n",
              "  }\n",
              "\n",
              "  [theme=dark] .colab-df-quickchart {\n",
              "      --bg-color: #3B4455;\n",
              "      --fill-color: #D2E3FC;\n",
              "      --hover-bg-color: #434B5C;\n",
              "      --hover-fill-color: #FFFFFF;\n",
              "      --disabled-bg-color: #3B4455;\n",
              "      --disabled-fill-color: #666;\n",
              "  }\n",
              "\n",
              "  .colab-df-quickchart {\n",
              "    background-color: var(--bg-color);\n",
              "    border: none;\n",
              "    border-radius: 50%;\n",
              "    cursor: pointer;\n",
              "    display: none;\n",
              "    fill: var(--fill-color);\n",
              "    height: 32px;\n",
              "    padding: 0;\n",
              "    width: 32px;\n",
              "  }\n",
              "\n",
              "  .colab-df-quickchart:hover {\n",
              "    background-color: var(--hover-bg-color);\n",
              "    box-shadow: 0 1px 2px rgba(60, 64, 67, 0.3), 0 1px 3px 1px rgba(60, 64, 67, 0.15);\n",
              "    fill: var(--button-hover-fill-color);\n",
              "  }\n",
              "\n",
              "  .colab-df-quickchart-complete:disabled,\n",
              "  .colab-df-quickchart-complete:disabled:hover {\n",
              "    background-color: var(--disabled-bg-color);\n",
              "    fill: var(--disabled-fill-color);\n",
              "    box-shadow: none;\n",
              "  }\n",
              "\n",
              "  .colab-df-spinner {\n",
              "    border: 2px solid var(--fill-color);\n",
              "    border-color: transparent;\n",
              "    border-bottom-color: var(--fill-color);\n",
              "    animation:\n",
              "      spin 1s steps(1) infinite;\n",
              "  }\n",
              "\n",
              "  @keyframes spin {\n",
              "    0% {\n",
              "      border-color: transparent;\n",
              "      border-bottom-color: var(--fill-color);\n",
              "      border-left-color: var(--fill-color);\n",
              "    }\n",
              "    20% {\n",
              "      border-color: transparent;\n",
              "      border-left-color: var(--fill-color);\n",
              "      border-top-color: var(--fill-color);\n",
              "    }\n",
              "    30% {\n",
              "      border-color: transparent;\n",
              "      border-left-color: var(--fill-color);\n",
              "      border-top-color: var(--fill-color);\n",
              "      border-right-color: var(--fill-color);\n",
              "    }\n",
              "    40% {\n",
              "      border-color: transparent;\n",
              "      border-right-color: var(--fill-color);\n",
              "      border-top-color: var(--fill-color);\n",
              "    }\n",
              "    60% {\n",
              "      border-color: transparent;\n",
              "      border-right-color: var(--fill-color);\n",
              "    }\n",
              "    80% {\n",
              "      border-color: transparent;\n",
              "      border-right-color: var(--fill-color);\n",
              "      border-bottom-color: var(--fill-color);\n",
              "    }\n",
              "    90% {\n",
              "      border-color: transparent;\n",
              "      border-bottom-color: var(--fill-color);\n",
              "    }\n",
              "  }\n",
              "</style>\n",
              "\n",
              "      <script>\n",
              "        async function quickchart(key) {\n",
              "          const quickchartButtonEl =\n",
              "            document.querySelector('#' + key + ' button');\n",
              "          quickchartButtonEl.disabled = true;  // To prevent multiple clicks.\n",
              "          quickchartButtonEl.classList.add('colab-df-spinner');\n",
              "          try {\n",
              "            const charts = await google.colab.kernel.invokeFunction(\n",
              "                'suggestCharts', [key], {});\n",
              "          } catch (error) {\n",
              "            console.error('Error during call to suggestCharts:', error);\n",
              "          }\n",
              "          quickchartButtonEl.classList.remove('colab-df-spinner');\n",
              "          quickchartButtonEl.classList.add('colab-df-quickchart-complete');\n",
              "        }\n",
              "        (() => {\n",
              "          let quickchartButtonEl =\n",
              "            document.querySelector('#df-65a2dcfa-1e1c-40a4-8eca-233001202d1e button');\n",
              "          quickchartButtonEl.style.display =\n",
              "            google.colab.kernel.accessAllowed ? 'block' : 'none';\n",
              "        })();\n",
              "      </script>\n",
              "    </div>\n",
              "\n",
              "    </div>\n",
              "  </div>\n"
            ],
            "application/vnd.google.colaboratory.intrinsic+json": {
              "type": "dataframe",
              "summary": "{\n  \"name\": \"conteos(['default payment next month','SEX'], ['default payment next month','SEX'])\",\n  \"rows\": 4,\n  \"fields\": [\n    {\n      \"column\": \"default payment next month\",\n      \"properties\": {\n        \"dtype\": \"number\",\n        \"std\": 0,\n        \"min\": 0,\n        \"max\": 1,\n        \"num_unique_values\": 2,\n        \"samples\": [\n          1,\n          0\n        ],\n        \"semantic_type\": \"\",\n        \"description\": \"\"\n      }\n    },\n    {\n      \"column\": \"SEX\",\n      \"properties\": {\n        \"dtype\": \"number\",\n        \"std\": 0,\n        \"min\": 1,\n        \"max\": 2,\n        \"num_unique_values\": 2,\n        \"samples\": [\n          2,\n          1\n        ],\n        \"semantic_type\": \"\",\n        \"description\": \"\"\n      }\n    },\n    {\n      \"column\": \"conteo\",\n      \"properties\": {\n        \"dtype\": \"number\",\n        \"std\": 5309,\n        \"min\": 2873,\n        \"max\": 14349,\n        \"num_unique_values\": 4,\n        \"samples\": [\n          14349,\n          3763\n        ],\n        \"semantic_type\": \"\",\n        \"description\": \"\"\n      }\n    },\n    {\n      \"column\": \"porc%\",\n      \"properties\": {\n        \"dtype\": \"number\",\n        \"std\": 17.69895623622624,\n        \"min\": 9.576666666666666,\n        \"max\": 47.83,\n        \"num_unique_values\": 4,\n        \"samples\": [\n          47.83,\n          12.543333333333335\n        ],\n        \"semantic_type\": \"\",\n        \"description\": \"\"\n      }\n    }\n  ]\n}"
            }
          },
          "metadata": {},
          "execution_count": 11
        }
      ]
    },
    {
      "cell_type": "code",
      "source": [
        "conteos(['default payment next month','MARRIAGE'], ['default payment next month','MARRIAGE'])"
      ],
      "metadata": {
        "colab": {
          "base_uri": "https://localhost:8080/",
          "height": 300
        },
        "id": "YjW2phfKSQgb",
        "outputId": "55195018-b908-44bb-ac6d-eb20d3bc0219"
      },
      "execution_count": null,
      "outputs": [
        {
          "output_type": "execute_result",
          "data": {
            "text/plain": [
              "   default payment next month  MARRIAGE  conteo      porc%\n",
              "0                           0         0      49   0.163333\n",
              "1                           0         1   10453  34.843333\n",
              "2                           0         2   12623  42.076667\n",
              "3                           0         3     239   0.796667\n",
              "4                           1         0       5   0.016667\n",
              "5                           1         1    3206  10.686667\n",
              "6                           1         2    3341  11.136667\n",
              "7                           1         3      84   0.280000"
            ],
            "text/html": [
              "\n",
              "  <div id=\"df-796585f9-f36e-4057-8243-eb325e369c8b\" class=\"colab-df-container\">\n",
              "    <div>\n",
              "<style scoped>\n",
              "    .dataframe tbody tr th:only-of-type {\n",
              "        vertical-align: middle;\n",
              "    }\n",
              "\n",
              "    .dataframe tbody tr th {\n",
              "        vertical-align: top;\n",
              "    }\n",
              "\n",
              "    .dataframe thead th {\n",
              "        text-align: right;\n",
              "    }\n",
              "</style>\n",
              "<table border=\"1\" class=\"dataframe\">\n",
              "  <thead>\n",
              "    <tr style=\"text-align: right;\">\n",
              "      <th></th>\n",
              "      <th>default payment next month</th>\n",
              "      <th>MARRIAGE</th>\n",
              "      <th>conteo</th>\n",
              "      <th>porc%</th>\n",
              "    </tr>\n",
              "  </thead>\n",
              "  <tbody>\n",
              "    <tr>\n",
              "      <th>0</th>\n",
              "      <td>0</td>\n",
              "      <td>0</td>\n",
              "      <td>49</td>\n",
              "      <td>0.163333</td>\n",
              "    </tr>\n",
              "    <tr>\n",
              "      <th>1</th>\n",
              "      <td>0</td>\n",
              "      <td>1</td>\n",
              "      <td>10453</td>\n",
              "      <td>34.843333</td>\n",
              "    </tr>\n",
              "    <tr>\n",
              "      <th>2</th>\n",
              "      <td>0</td>\n",
              "      <td>2</td>\n",
              "      <td>12623</td>\n",
              "      <td>42.076667</td>\n",
              "    </tr>\n",
              "    <tr>\n",
              "      <th>3</th>\n",
              "      <td>0</td>\n",
              "      <td>3</td>\n",
              "      <td>239</td>\n",
              "      <td>0.796667</td>\n",
              "    </tr>\n",
              "    <tr>\n",
              "      <th>4</th>\n",
              "      <td>1</td>\n",
              "      <td>0</td>\n",
              "      <td>5</td>\n",
              "      <td>0.016667</td>\n",
              "    </tr>\n",
              "    <tr>\n",
              "      <th>5</th>\n",
              "      <td>1</td>\n",
              "      <td>1</td>\n",
              "      <td>3206</td>\n",
              "      <td>10.686667</td>\n",
              "    </tr>\n",
              "    <tr>\n",
              "      <th>6</th>\n",
              "      <td>1</td>\n",
              "      <td>2</td>\n",
              "      <td>3341</td>\n",
              "      <td>11.136667</td>\n",
              "    </tr>\n",
              "    <tr>\n",
              "      <th>7</th>\n",
              "      <td>1</td>\n",
              "      <td>3</td>\n",
              "      <td>84</td>\n",
              "      <td>0.280000</td>\n",
              "    </tr>\n",
              "  </tbody>\n",
              "</table>\n",
              "</div>\n",
              "    <div class=\"colab-df-buttons\">\n",
              "\n",
              "  <div class=\"colab-df-container\">\n",
              "    <button class=\"colab-df-convert\" onclick=\"convertToInteractive('df-796585f9-f36e-4057-8243-eb325e369c8b')\"\n",
              "            title=\"Convert this dataframe to an interactive table.\"\n",
              "            style=\"display:none;\">\n",
              "\n",
              "  <svg xmlns=\"http://www.w3.org/2000/svg\" height=\"24px\" viewBox=\"0 -960 960 960\">\n",
              "    <path d=\"M120-120v-720h720v720H120Zm60-500h600v-160H180v160Zm220 220h160v-160H400v160Zm0 220h160v-160H400v160ZM180-400h160v-160H180v160Zm440 0h160v-160H620v160ZM180-180h160v-160H180v160Zm440 0h160v-160H620v160Z\"/>\n",
              "  </svg>\n",
              "    </button>\n",
              "\n",
              "  <style>\n",
              "    .colab-df-container {\n",
              "      display:flex;\n",
              "      gap: 12px;\n",
              "    }\n",
              "\n",
              "    .colab-df-convert {\n",
              "      background-color: #E8F0FE;\n",
              "      border: none;\n",
              "      border-radius: 50%;\n",
              "      cursor: pointer;\n",
              "      display: none;\n",
              "      fill: #1967D2;\n",
              "      height: 32px;\n",
              "      padding: 0 0 0 0;\n",
              "      width: 32px;\n",
              "    }\n",
              "\n",
              "    .colab-df-convert:hover {\n",
              "      background-color: #E2EBFA;\n",
              "      box-shadow: 0px 1px 2px rgba(60, 64, 67, 0.3), 0px 1px 3px 1px rgba(60, 64, 67, 0.15);\n",
              "      fill: #174EA6;\n",
              "    }\n",
              "\n",
              "    .colab-df-buttons div {\n",
              "      margin-bottom: 4px;\n",
              "    }\n",
              "\n",
              "    [theme=dark] .colab-df-convert {\n",
              "      background-color: #3B4455;\n",
              "      fill: #D2E3FC;\n",
              "    }\n",
              "\n",
              "    [theme=dark] .colab-df-convert:hover {\n",
              "      background-color: #434B5C;\n",
              "      box-shadow: 0px 1px 3px 1px rgba(0, 0, 0, 0.15);\n",
              "      filter: drop-shadow(0px 1px 2px rgba(0, 0, 0, 0.3));\n",
              "      fill: #FFFFFF;\n",
              "    }\n",
              "  </style>\n",
              "\n",
              "    <script>\n",
              "      const buttonEl =\n",
              "        document.querySelector('#df-796585f9-f36e-4057-8243-eb325e369c8b button.colab-df-convert');\n",
              "      buttonEl.style.display =\n",
              "        google.colab.kernel.accessAllowed ? 'block' : 'none';\n",
              "\n",
              "      async function convertToInteractive(key) {\n",
              "        const element = document.querySelector('#df-796585f9-f36e-4057-8243-eb325e369c8b');\n",
              "        const dataTable =\n",
              "          await google.colab.kernel.invokeFunction('convertToInteractive',\n",
              "                                                    [key], {});\n",
              "        if (!dataTable) return;\n",
              "\n",
              "        const docLinkHtml = 'Like what you see? Visit the ' +\n",
              "          '<a target=\"_blank\" href=https://colab.research.google.com/notebooks/data_table.ipynb>data table notebook</a>'\n",
              "          + ' to learn more about interactive tables.';\n",
              "        element.innerHTML = '';\n",
              "        dataTable['output_type'] = 'display_data';\n",
              "        await google.colab.output.renderOutput(dataTable, element);\n",
              "        const docLink = document.createElement('div');\n",
              "        docLink.innerHTML = docLinkHtml;\n",
              "        element.appendChild(docLink);\n",
              "      }\n",
              "    </script>\n",
              "  </div>\n",
              "\n",
              "\n",
              "    <div id=\"df-fa9d4b89-7b2b-4143-b35a-2f0335a3639c\">\n",
              "      <button class=\"colab-df-quickchart\" onclick=\"quickchart('df-fa9d4b89-7b2b-4143-b35a-2f0335a3639c')\"\n",
              "                title=\"Suggest charts\"\n",
              "                style=\"display:none;\">\n",
              "\n",
              "<svg xmlns=\"http://www.w3.org/2000/svg\" height=\"24px\"viewBox=\"0 0 24 24\"\n",
              "     width=\"24px\">\n",
              "    <g>\n",
              "        <path d=\"M19 3H5c-1.1 0-2 .9-2 2v14c0 1.1.9 2 2 2h14c1.1 0 2-.9 2-2V5c0-1.1-.9-2-2-2zM9 17H7v-7h2v7zm4 0h-2V7h2v10zm4 0h-2v-4h2v4z\"/>\n",
              "    </g>\n",
              "</svg>\n",
              "      </button>\n",
              "\n",
              "<style>\n",
              "  .colab-df-quickchart {\n",
              "      --bg-color: #E8F0FE;\n",
              "      --fill-color: #1967D2;\n",
              "      --hover-bg-color: #E2EBFA;\n",
              "      --hover-fill-color: #174EA6;\n",
              "      --disabled-fill-color: #AAA;\n",
              "      --disabled-bg-color: #DDD;\n",
              "  }\n",
              "\n",
              "  [theme=dark] .colab-df-quickchart {\n",
              "      --bg-color: #3B4455;\n",
              "      --fill-color: #D2E3FC;\n",
              "      --hover-bg-color: #434B5C;\n",
              "      --hover-fill-color: #FFFFFF;\n",
              "      --disabled-bg-color: #3B4455;\n",
              "      --disabled-fill-color: #666;\n",
              "  }\n",
              "\n",
              "  .colab-df-quickchart {\n",
              "    background-color: var(--bg-color);\n",
              "    border: none;\n",
              "    border-radius: 50%;\n",
              "    cursor: pointer;\n",
              "    display: none;\n",
              "    fill: var(--fill-color);\n",
              "    height: 32px;\n",
              "    padding: 0;\n",
              "    width: 32px;\n",
              "  }\n",
              "\n",
              "  .colab-df-quickchart:hover {\n",
              "    background-color: var(--hover-bg-color);\n",
              "    box-shadow: 0 1px 2px rgba(60, 64, 67, 0.3), 0 1px 3px 1px rgba(60, 64, 67, 0.15);\n",
              "    fill: var(--button-hover-fill-color);\n",
              "  }\n",
              "\n",
              "  .colab-df-quickchart-complete:disabled,\n",
              "  .colab-df-quickchart-complete:disabled:hover {\n",
              "    background-color: var(--disabled-bg-color);\n",
              "    fill: var(--disabled-fill-color);\n",
              "    box-shadow: none;\n",
              "  }\n",
              "\n",
              "  .colab-df-spinner {\n",
              "    border: 2px solid var(--fill-color);\n",
              "    border-color: transparent;\n",
              "    border-bottom-color: var(--fill-color);\n",
              "    animation:\n",
              "      spin 1s steps(1) infinite;\n",
              "  }\n",
              "\n",
              "  @keyframes spin {\n",
              "    0% {\n",
              "      border-color: transparent;\n",
              "      border-bottom-color: var(--fill-color);\n",
              "      border-left-color: var(--fill-color);\n",
              "    }\n",
              "    20% {\n",
              "      border-color: transparent;\n",
              "      border-left-color: var(--fill-color);\n",
              "      border-top-color: var(--fill-color);\n",
              "    }\n",
              "    30% {\n",
              "      border-color: transparent;\n",
              "      border-left-color: var(--fill-color);\n",
              "      border-top-color: var(--fill-color);\n",
              "      border-right-color: var(--fill-color);\n",
              "    }\n",
              "    40% {\n",
              "      border-color: transparent;\n",
              "      border-right-color: var(--fill-color);\n",
              "      border-top-color: var(--fill-color);\n",
              "    }\n",
              "    60% {\n",
              "      border-color: transparent;\n",
              "      border-right-color: var(--fill-color);\n",
              "    }\n",
              "    80% {\n",
              "      border-color: transparent;\n",
              "      border-right-color: var(--fill-color);\n",
              "      border-bottom-color: var(--fill-color);\n",
              "    }\n",
              "    90% {\n",
              "      border-color: transparent;\n",
              "      border-bottom-color: var(--fill-color);\n",
              "    }\n",
              "  }\n",
              "</style>\n",
              "\n",
              "      <script>\n",
              "        async function quickchart(key) {\n",
              "          const quickchartButtonEl =\n",
              "            document.querySelector('#' + key + ' button');\n",
              "          quickchartButtonEl.disabled = true;  // To prevent multiple clicks.\n",
              "          quickchartButtonEl.classList.add('colab-df-spinner');\n",
              "          try {\n",
              "            const charts = await google.colab.kernel.invokeFunction(\n",
              "                'suggestCharts', [key], {});\n",
              "          } catch (error) {\n",
              "            console.error('Error during call to suggestCharts:', error);\n",
              "          }\n",
              "          quickchartButtonEl.classList.remove('colab-df-spinner');\n",
              "          quickchartButtonEl.classList.add('colab-df-quickchart-complete');\n",
              "        }\n",
              "        (() => {\n",
              "          let quickchartButtonEl =\n",
              "            document.querySelector('#df-fa9d4b89-7b2b-4143-b35a-2f0335a3639c button');\n",
              "          quickchartButtonEl.style.display =\n",
              "            google.colab.kernel.accessAllowed ? 'block' : 'none';\n",
              "        })();\n",
              "      </script>\n",
              "    </div>\n",
              "\n",
              "    </div>\n",
              "  </div>\n"
            ],
            "application/vnd.google.colaboratory.intrinsic+json": {
              "type": "dataframe",
              "summary": "{\n  \"name\": \"conteos(['default payment next month','MARRIAGE'], ['default payment next month','MARRIAGE'])\",\n  \"rows\": 8,\n  \"fields\": [\n    {\n      \"column\": \"default payment next month\",\n      \"properties\": {\n        \"dtype\": \"number\",\n        \"std\": 0,\n        \"min\": 0,\n        \"max\": 1,\n        \"num_unique_values\": 2,\n        \"samples\": [\n          1,\n          0\n        ],\n        \"semantic_type\": \"\",\n        \"description\": \"\"\n      }\n    },\n    {\n      \"column\": \"MARRIAGE\",\n      \"properties\": {\n        \"dtype\": \"number\",\n        \"std\": 1,\n        \"min\": 0,\n        \"max\": 3,\n        \"num_unique_values\": 4,\n        \"samples\": [\n          1,\n          3\n        ],\n        \"semantic_type\": \"\",\n        \"description\": \"\"\n      }\n    },\n    {\n      \"column\": \"conteo\",\n      \"properties\": {\n        \"dtype\": \"number\",\n        \"std\": 5037,\n        \"min\": 5,\n        \"max\": 12623,\n        \"num_unique_values\": 8,\n        \"samples\": [\n          10453,\n          3206\n        ],\n        \"semantic_type\": \"\",\n        \"description\": \"\"\n      }\n    },\n    {\n      \"column\": \"porc%\",\n      \"properties\": {\n        \"dtype\": \"number\",\n        \"std\": 16.790618034136028,\n        \"min\": 0.016666666666666666,\n        \"max\": 42.07666666666667,\n        \"num_unique_values\": 8,\n        \"samples\": [\n          34.843333333333334,\n          10.686666666666667\n        ],\n        \"semantic_type\": \"\",\n        \"description\": \"\"\n      }\n    }\n  ]\n}"
            }
          },
          "metadata": {},
          "execution_count": 12
        }
      ]
    },
    {
      "cell_type": "markdown",
      "source": [
        "##<font color=\"darkred\"> RESUMEN PARTE DESCRIPTIVA DE LOS DATOS:\n",
        "\n",
        "1.   La varible que se usara para clasificar es desvalanceada ($78%$ vs $22%$)\n",
        "2.   Las distribuciones o segementación por las variables genero, edad, y otros por lo general son similares\n",
        "\n"
      ],
      "metadata": {
        "id": "BOE23xxziS5Q"
      }
    },
    {
      "cell_type": "markdown",
      "source": [
        "## <font color=\"darkred\">Análisis de correlación de los datos  </font>\n",
        "* En este paso, antes deconstruir modelos predictivos se sugiere verificar si hay variables que esten altamente correlacionadas, ya que muchos modelos predictivos estan basado en la no existencia de correlación/ multicolinealidad de los datos."
      ],
      "metadata": {
        "id": "_MGpAjh1VVGY"
      }
    },
    {
      "cell_type": "code",
      "source": [
        "mat_corr = df.corr()"
      ],
      "metadata": {
        "id": "-oyEBTAwVdyK"
      },
      "execution_count": null,
      "outputs": []
    },
    {
      "cell_type": "markdown",
      "source": [
        "Como hay 25 columnas, y las correlaciones se calculan por pares de variables, entonces existen $$\\binom{25}{2} = \\frac{25\\times 24}{2!}=300$$ combinaciones, y por tanto 300 valores de correlaciones (una por cada par de variables)."
      ],
      "metadata": {
        "id": "4nAr4gFsYA0t"
      }
    },
    {
      "cell_type": "code",
      "source": [
        "umbrales = [0.65,0.7, 0.75,0.8,0.9]\n",
        "lista = []\n",
        "for th in umbrales:\n",
        "  val = (np.where(mat_corr>th, 1,0).sum()-25)/2 # menos la diaganal y entre dos porque la matriz es simetrica\n",
        "  print(f\"{int(val)} pares de variables con alta correlación: (>|{th}|)\")"
      ],
      "metadata": {
        "colab": {
          "base_uri": "https://localhost:8080/"
        },
        "id": "xxbYtkmhXMFw",
        "outputId": "f0474cfc-f6ee-49fb-d020-7d1a5b3f56d1"
      },
      "execution_count": null,
      "outputs": [
        {
          "output_type": "stream",
          "name": "stdout",
          "text": [
            "23 pares de variables con alta correlación: (>|0.65|)\n",
            "20 pares de variables con alta correlación: (>|0.7|)\n",
            "19 pares de variables con alta correlación: (>|0.75|)\n",
            "17 pares de variables con alta correlación: (>|0.8|)\n",
            "6 pares de variables con alta correlación: (>|0.9|)\n"
          ]
        }
      ]
    },
    {
      "cell_type": "markdown",
      "source": [
        " **Observación:**<font color=\"darkred\"> De la información anterior se puede ver que si existe alta correlación entre las variables, por lo cual se suguiere transformar los datos originales a otros, o recidir la dimensión de los datos bajo una transformación y obtener nuevos valores sin alta correlación (este caso, se usara PCA para transformar los datos)."
      ],
      "metadata": {
        "id": "AcOqGmK8bmYg"
      }
    },
    {
      "cell_type": "markdown",
      "source": [
        "#<font color=\"darkred\"> Análisis de componentes principales PCA"
      ],
      "metadata": {
        "id": "0tFj8t-enwlZ"
      }
    },
    {
      "cell_type": "code",
      "source": [
        "from sklearn.preprocessing import StandardScaler\n",
        "from sklearn.decomposition import PCA\n",
        "from sklearn.pipeline import make_pipeline\n",
        "\n",
        "X = df.iloc[:,0:24]\n",
        "Y = df[['default payment next month']]\n",
        "\n",
        "# esto es sólo para ver los pesos que se generan para las variables y componentes\n",
        "pca_pipe = make_pipeline(StandardScaler(), PCA())\n",
        "pca_pipe.fit(X)\n",
        "\n",
        "# Se extrae el modelo entrenado del pipeline\n",
        "modelo_pca = pca_pipe.named_steps['pca']\n",
        "\n",
        "print('Mientras más alto los pesos, las componentes recogen mayor información de las variables asociadas a estos pesos\\n')\n",
        "\n",
        "pd.DataFrame(\n",
        "    data    = modelo_pca.components_,\n",
        "    columns = X.columns,\n",
        "    index   = ['pca'+str(val+1) for val in np.arange(X.shape[1])]\n",
        ").head(3)\n",
        "# estos sólo son los pesos de la transformación"
      ],
      "metadata": {
        "colab": {
          "base_uri": "https://localhost:8080/",
          "height": 230
        },
        "id": "g13jqORvbBxj",
        "outputId": "a83afcde-b664-442d-975e-44fc073a44e5"
      },
      "execution_count": null,
      "outputs": [
        {
          "output_type": "stream",
          "name": "stdout",
          "text": [
            "Mientras más alto los pesos, las componentes recogen mayor información de las variables asociadas a estos pesos\n",
            "\n"
          ]
        },
        {
          "output_type": "execute_result",
          "data": {
            "text/plain": [
              "            ID  LIMIT_BAL       SEX  EDUCATION  MARRIAGE       AGE     PAY_0  \\\n",
              "pca1  0.006372   0.068576 -0.021631   0.019241 -0.005641  0.014263  0.161008   \n",
              "pca2 -0.022930  -0.316218 -0.030720   0.091153  0.043466 -0.066703  0.298194   \n",
              "pca3  0.058979  -0.017085 -0.023184   0.323544 -0.460945  0.469427  0.017224   \n",
              "\n",
              "         PAY_2     PAY_3     PAY_4  ...  BILL_AMT3  BILL_AMT4  BILL_AMT5  \\\n",
              "pca1  0.194059  0.200144  0.206984  ...   0.349799   0.353921   0.351766   \n",
              "pca2  0.334765  0.343876  0.344477  ...  -0.146067  -0.145400  -0.143575   \n",
              "pca3 -0.016221 -0.059577 -0.085566  ...   0.081332   0.068916   0.054226   \n",
              "\n",
              "      BILL_AMT6  PAY_AMT1  PAY_AMT2  PAY_AMT3  PAY_AMT4  PAY_AMT5  PAY_AMT6  \n",
              "pca1   0.344528  0.094252  0.078701  0.086448  0.077811  0.075365  0.069961  \n",
              "pca2  -0.141687 -0.149009 -0.139780 -0.151674 -0.141306 -0.137040 -0.129274  \n",
              "pca3   0.045224 -0.275986 -0.295265 -0.272316 -0.232779 -0.191624 -0.205694  \n",
              "\n",
              "[3 rows x 24 columns]"
            ],
            "text/html": [
              "\n",
              "  <div id=\"df-88cbf4ff-eb2a-4733-b214-6ce14f2ffd88\" class=\"colab-df-container\">\n",
              "    <div>\n",
              "<style scoped>\n",
              "    .dataframe tbody tr th:only-of-type {\n",
              "        vertical-align: middle;\n",
              "    }\n",
              "\n",
              "    .dataframe tbody tr th {\n",
              "        vertical-align: top;\n",
              "    }\n",
              "\n",
              "    .dataframe thead th {\n",
              "        text-align: right;\n",
              "    }\n",
              "</style>\n",
              "<table border=\"1\" class=\"dataframe\">\n",
              "  <thead>\n",
              "    <tr style=\"text-align: right;\">\n",
              "      <th></th>\n",
              "      <th>ID</th>\n",
              "      <th>LIMIT_BAL</th>\n",
              "      <th>SEX</th>\n",
              "      <th>EDUCATION</th>\n",
              "      <th>MARRIAGE</th>\n",
              "      <th>AGE</th>\n",
              "      <th>PAY_0</th>\n",
              "      <th>PAY_2</th>\n",
              "      <th>PAY_3</th>\n",
              "      <th>PAY_4</th>\n",
              "      <th>...</th>\n",
              "      <th>BILL_AMT3</th>\n",
              "      <th>BILL_AMT4</th>\n",
              "      <th>BILL_AMT5</th>\n",
              "      <th>BILL_AMT6</th>\n",
              "      <th>PAY_AMT1</th>\n",
              "      <th>PAY_AMT2</th>\n",
              "      <th>PAY_AMT3</th>\n",
              "      <th>PAY_AMT4</th>\n",
              "      <th>PAY_AMT5</th>\n",
              "      <th>PAY_AMT6</th>\n",
              "    </tr>\n",
              "  </thead>\n",
              "  <tbody>\n",
              "    <tr>\n",
              "      <th>pca1</th>\n",
              "      <td>0.006372</td>\n",
              "      <td>0.068576</td>\n",
              "      <td>-0.021631</td>\n",
              "      <td>0.019241</td>\n",
              "      <td>-0.005641</td>\n",
              "      <td>0.014263</td>\n",
              "      <td>0.161008</td>\n",
              "      <td>0.194059</td>\n",
              "      <td>0.200144</td>\n",
              "      <td>0.206984</td>\n",
              "      <td>...</td>\n",
              "      <td>0.349799</td>\n",
              "      <td>0.353921</td>\n",
              "      <td>0.351766</td>\n",
              "      <td>0.344528</td>\n",
              "      <td>0.094252</td>\n",
              "      <td>0.078701</td>\n",
              "      <td>0.086448</td>\n",
              "      <td>0.077811</td>\n",
              "      <td>0.075365</td>\n",
              "      <td>0.069961</td>\n",
              "    </tr>\n",
              "    <tr>\n",
              "      <th>pca2</th>\n",
              "      <td>-0.022930</td>\n",
              "      <td>-0.316218</td>\n",
              "      <td>-0.030720</td>\n",
              "      <td>0.091153</td>\n",
              "      <td>0.043466</td>\n",
              "      <td>-0.066703</td>\n",
              "      <td>0.298194</td>\n",
              "      <td>0.334765</td>\n",
              "      <td>0.343876</td>\n",
              "      <td>0.344477</td>\n",
              "      <td>...</td>\n",
              "      <td>-0.146067</td>\n",
              "      <td>-0.145400</td>\n",
              "      <td>-0.143575</td>\n",
              "      <td>-0.141687</td>\n",
              "      <td>-0.149009</td>\n",
              "      <td>-0.139780</td>\n",
              "      <td>-0.151674</td>\n",
              "      <td>-0.141306</td>\n",
              "      <td>-0.137040</td>\n",
              "      <td>-0.129274</td>\n",
              "    </tr>\n",
              "    <tr>\n",
              "      <th>pca3</th>\n",
              "      <td>0.058979</td>\n",
              "      <td>-0.017085</td>\n",
              "      <td>-0.023184</td>\n",
              "      <td>0.323544</td>\n",
              "      <td>-0.460945</td>\n",
              "      <td>0.469427</td>\n",
              "      <td>0.017224</td>\n",
              "      <td>-0.016221</td>\n",
              "      <td>-0.059577</td>\n",
              "      <td>-0.085566</td>\n",
              "      <td>...</td>\n",
              "      <td>0.081332</td>\n",
              "      <td>0.068916</td>\n",
              "      <td>0.054226</td>\n",
              "      <td>0.045224</td>\n",
              "      <td>-0.275986</td>\n",
              "      <td>-0.295265</td>\n",
              "      <td>-0.272316</td>\n",
              "      <td>-0.232779</td>\n",
              "      <td>-0.191624</td>\n",
              "      <td>-0.205694</td>\n",
              "    </tr>\n",
              "  </tbody>\n",
              "</table>\n",
              "<p>3 rows × 24 columns</p>\n",
              "</div>\n",
              "    <div class=\"colab-df-buttons\">\n",
              "\n",
              "  <div class=\"colab-df-container\">\n",
              "    <button class=\"colab-df-convert\" onclick=\"convertToInteractive('df-88cbf4ff-eb2a-4733-b214-6ce14f2ffd88')\"\n",
              "            title=\"Convert this dataframe to an interactive table.\"\n",
              "            style=\"display:none;\">\n",
              "\n",
              "  <svg xmlns=\"http://www.w3.org/2000/svg\" height=\"24px\" viewBox=\"0 -960 960 960\">\n",
              "    <path d=\"M120-120v-720h720v720H120Zm60-500h600v-160H180v160Zm220 220h160v-160H400v160Zm0 220h160v-160H400v160ZM180-400h160v-160H180v160Zm440 0h160v-160H620v160ZM180-180h160v-160H180v160Zm440 0h160v-160H620v160Z\"/>\n",
              "  </svg>\n",
              "    </button>\n",
              "\n",
              "  <style>\n",
              "    .colab-df-container {\n",
              "      display:flex;\n",
              "      gap: 12px;\n",
              "    }\n",
              "\n",
              "    .colab-df-convert {\n",
              "      background-color: #E8F0FE;\n",
              "      border: none;\n",
              "      border-radius: 50%;\n",
              "      cursor: pointer;\n",
              "      display: none;\n",
              "      fill: #1967D2;\n",
              "      height: 32px;\n",
              "      padding: 0 0 0 0;\n",
              "      width: 32px;\n",
              "    }\n",
              "\n",
              "    .colab-df-convert:hover {\n",
              "      background-color: #E2EBFA;\n",
              "      box-shadow: 0px 1px 2px rgba(60, 64, 67, 0.3), 0px 1px 3px 1px rgba(60, 64, 67, 0.15);\n",
              "      fill: #174EA6;\n",
              "    }\n",
              "\n",
              "    .colab-df-buttons div {\n",
              "      margin-bottom: 4px;\n",
              "    }\n",
              "\n",
              "    [theme=dark] .colab-df-convert {\n",
              "      background-color: #3B4455;\n",
              "      fill: #D2E3FC;\n",
              "    }\n",
              "\n",
              "    [theme=dark] .colab-df-convert:hover {\n",
              "      background-color: #434B5C;\n",
              "      box-shadow: 0px 1px 3px 1px rgba(0, 0, 0, 0.15);\n",
              "      filter: drop-shadow(0px 1px 2px rgba(0, 0, 0, 0.3));\n",
              "      fill: #FFFFFF;\n",
              "    }\n",
              "  </style>\n",
              "\n",
              "    <script>\n",
              "      const buttonEl =\n",
              "        document.querySelector('#df-88cbf4ff-eb2a-4733-b214-6ce14f2ffd88 button.colab-df-convert');\n",
              "      buttonEl.style.display =\n",
              "        google.colab.kernel.accessAllowed ? 'block' : 'none';\n",
              "\n",
              "      async function convertToInteractive(key) {\n",
              "        const element = document.querySelector('#df-88cbf4ff-eb2a-4733-b214-6ce14f2ffd88');\n",
              "        const dataTable =\n",
              "          await google.colab.kernel.invokeFunction('convertToInteractive',\n",
              "                                                    [key], {});\n",
              "        if (!dataTable) return;\n",
              "\n",
              "        const docLinkHtml = 'Like what you see? Visit the ' +\n",
              "          '<a target=\"_blank\" href=https://colab.research.google.com/notebooks/data_table.ipynb>data table notebook</a>'\n",
              "          + ' to learn more about interactive tables.';\n",
              "        element.innerHTML = '';\n",
              "        dataTable['output_type'] = 'display_data';\n",
              "        await google.colab.output.renderOutput(dataTable, element);\n",
              "        const docLink = document.createElement('div');\n",
              "        docLink.innerHTML = docLinkHtml;\n",
              "        element.appendChild(docLink);\n",
              "      }\n",
              "    </script>\n",
              "  </div>\n",
              "\n",
              "\n",
              "    <div id=\"df-c17e2811-97c0-4fe3-a629-3916f5c22a6e\">\n",
              "      <button class=\"colab-df-quickchart\" onclick=\"quickchart('df-c17e2811-97c0-4fe3-a629-3916f5c22a6e')\"\n",
              "                title=\"Suggest charts\"\n",
              "                style=\"display:none;\">\n",
              "\n",
              "<svg xmlns=\"http://www.w3.org/2000/svg\" height=\"24px\"viewBox=\"0 0 24 24\"\n",
              "     width=\"24px\">\n",
              "    <g>\n",
              "        <path d=\"M19 3H5c-1.1 0-2 .9-2 2v14c0 1.1.9 2 2 2h14c1.1 0 2-.9 2-2V5c0-1.1-.9-2-2-2zM9 17H7v-7h2v7zm4 0h-2V7h2v10zm4 0h-2v-4h2v4z\"/>\n",
              "    </g>\n",
              "</svg>\n",
              "      </button>\n",
              "\n",
              "<style>\n",
              "  .colab-df-quickchart {\n",
              "      --bg-color: #E8F0FE;\n",
              "      --fill-color: #1967D2;\n",
              "      --hover-bg-color: #E2EBFA;\n",
              "      --hover-fill-color: #174EA6;\n",
              "      --disabled-fill-color: #AAA;\n",
              "      --disabled-bg-color: #DDD;\n",
              "  }\n",
              "\n",
              "  [theme=dark] .colab-df-quickchart {\n",
              "      --bg-color: #3B4455;\n",
              "      --fill-color: #D2E3FC;\n",
              "      --hover-bg-color: #434B5C;\n",
              "      --hover-fill-color: #FFFFFF;\n",
              "      --disabled-bg-color: #3B4455;\n",
              "      --disabled-fill-color: #666;\n",
              "  }\n",
              "\n",
              "  .colab-df-quickchart {\n",
              "    background-color: var(--bg-color);\n",
              "    border: none;\n",
              "    border-radius: 50%;\n",
              "    cursor: pointer;\n",
              "    display: none;\n",
              "    fill: var(--fill-color);\n",
              "    height: 32px;\n",
              "    padding: 0;\n",
              "    width: 32px;\n",
              "  }\n",
              "\n",
              "  .colab-df-quickchart:hover {\n",
              "    background-color: var(--hover-bg-color);\n",
              "    box-shadow: 0 1px 2px rgba(60, 64, 67, 0.3), 0 1px 3px 1px rgba(60, 64, 67, 0.15);\n",
              "    fill: var(--button-hover-fill-color);\n",
              "  }\n",
              "\n",
              "  .colab-df-quickchart-complete:disabled,\n",
              "  .colab-df-quickchart-complete:disabled:hover {\n",
              "    background-color: var(--disabled-bg-color);\n",
              "    fill: var(--disabled-fill-color);\n",
              "    box-shadow: none;\n",
              "  }\n",
              "\n",
              "  .colab-df-spinner {\n",
              "    border: 2px solid var(--fill-color);\n",
              "    border-color: transparent;\n",
              "    border-bottom-color: var(--fill-color);\n",
              "    animation:\n",
              "      spin 1s steps(1) infinite;\n",
              "  }\n",
              "\n",
              "  @keyframes spin {\n",
              "    0% {\n",
              "      border-color: transparent;\n",
              "      border-bottom-color: var(--fill-color);\n",
              "      border-left-color: var(--fill-color);\n",
              "    }\n",
              "    20% {\n",
              "      border-color: transparent;\n",
              "      border-left-color: var(--fill-color);\n",
              "      border-top-color: var(--fill-color);\n",
              "    }\n",
              "    30% {\n",
              "      border-color: transparent;\n",
              "      border-left-color: var(--fill-color);\n",
              "      border-top-color: var(--fill-color);\n",
              "      border-right-color: var(--fill-color);\n",
              "    }\n",
              "    40% {\n",
              "      border-color: transparent;\n",
              "      border-right-color: var(--fill-color);\n",
              "      border-top-color: var(--fill-color);\n",
              "    }\n",
              "    60% {\n",
              "      border-color: transparent;\n",
              "      border-right-color: var(--fill-color);\n",
              "    }\n",
              "    80% {\n",
              "      border-color: transparent;\n",
              "      border-right-color: var(--fill-color);\n",
              "      border-bottom-color: var(--fill-color);\n",
              "    }\n",
              "    90% {\n",
              "      border-color: transparent;\n",
              "      border-bottom-color: var(--fill-color);\n",
              "    }\n",
              "  }\n",
              "</style>\n",
              "\n",
              "      <script>\n",
              "        async function quickchart(key) {\n",
              "          const quickchartButtonEl =\n",
              "            document.querySelector('#' + key + ' button');\n",
              "          quickchartButtonEl.disabled = true;  // To prevent multiple clicks.\n",
              "          quickchartButtonEl.classList.add('colab-df-spinner');\n",
              "          try {\n",
              "            const charts = await google.colab.kernel.invokeFunction(\n",
              "                'suggestCharts', [key], {});\n",
              "          } catch (error) {\n",
              "            console.error('Error during call to suggestCharts:', error);\n",
              "          }\n",
              "          quickchartButtonEl.classList.remove('colab-df-spinner');\n",
              "          quickchartButtonEl.classList.add('colab-df-quickchart-complete');\n",
              "        }\n",
              "        (() => {\n",
              "          let quickchartButtonEl =\n",
              "            document.querySelector('#df-c17e2811-97c0-4fe3-a629-3916f5c22a6e button');\n",
              "          quickchartButtonEl.style.display =\n",
              "            google.colab.kernel.accessAllowed ? 'block' : 'none';\n",
              "        })();\n",
              "      </script>\n",
              "    </div>\n",
              "\n",
              "    </div>\n",
              "  </div>\n"
            ],
            "application/vnd.google.colaboratory.intrinsic+json": {
              "type": "dataframe"
            }
          },
          "metadata": {},
          "execution_count": 15
        }
      ]
    },
    {
      "cell_type": "code",
      "source": [
        "# Ver las componentes que tienen mayor % de varianza explicada, sólo voy a ver las de 15 componentes\n",
        "print('Porcentaje de varianza explicada por cada una de las componentes')\n",
        "print(modelo_pca.explained_variance_ratio_[0:15],'\\n')\n",
        "fig, ax = plt.subplots(nrows=1, ncols=1, figsize=(5, 5))\n",
        "ax.bar(\n",
        "    x      = np.arange(modelo_pca.n_components_)[0:15]+ 1,\n",
        "    height = modelo_pca.explained_variance_ratio_[0:15]\n",
        ")\n",
        "\n",
        "for x, y in zip(np.arange(len(X.columns)-9) + 1, modelo_pca.explained_variance_ratio_[0:15]):\n",
        "    label = round(y, 2)\n",
        "    ax.annotate(\n",
        "        label,\n",
        "        (x,y),\n",
        "        textcoords=\"offset points\",\n",
        "        xytext=(0,1),\n",
        "        ha='center', size=8\n",
        "    )\n",
        "\n",
        "ax.set_xticks(np.arange(modelo_pca.n_components_)[0:15]+ 1)\n",
        "ax.set_ylim(0,0.3)\n",
        "ax.set_xlabel('Componente principal')\n",
        "ax.set_ylabel('Por. varianza explicada');\n",
        "\n",
        "print('Varianza de las primeras 15 componentes:', modelo_pca.explained_variance_ratio_[0:15].sum())"
      ],
      "metadata": {
        "colab": {
          "base_uri": "https://localhost:8080/",
          "height": 580
        },
        "id": "V93-iTECcnOE",
        "outputId": "bd3493f8-e1ec-4714-d743-76649b9e1571"
      },
      "execution_count": null,
      "outputs": [
        {
          "output_type": "stream",
          "name": "stdout",
          "text": [
            "Porcentaje de varianza explicada por cada una de las componentes\n",
            "[0.2726381  0.17083159 0.06470214 0.0614085  0.04365895 0.04106621\n",
            " 0.0395654  0.03780221 0.03696921 0.03629678 0.03249152 0.03053234\n",
            " 0.02844441 0.02378875 0.0218289 ] \n",
            "\n",
            "Varianza de las primeras 15 componentes: 0.9420250135647269\n"
          ]
        },
        {
          "output_type": "display_data",
          "data": {
            "text/plain": [
              "<Figure size 500x500 with 1 Axes>"
            ],
            "image/png": "[encoded data removed]"
          },
          "metadata": {}
        }
      ]
    },
    {
      "cell_type": "code",
      "source": [
        "# Para reducir la dimensionalidad de los datos, me voy a quedar con nuevas observaciones, que son las proyecciones en el espacio definido por las componentes.\n",
        "# proyecciones = producto_punto(modelo_pca.components_, datos).T\n",
        "proyecciones = pca_pipe.transform(X=X)\n",
        "proyecciones = pd.DataFrame(\n",
        "    proyecciones,\n",
        "    columns = ['pca'+str(val+1) for val in np.arange(X.shape[1])],\n",
        "    index   = X.index\n",
        ")\n",
        "\n",
        "# Me quedo con las 15 componentes\n",
        "proyecciones =  proyecciones[['pca'+str(val+1) for val in np.arange(X.shape[1]-9)]]\n",
        "proyecciones.head(3)"
      ],
      "metadata": {
        "colab": {
          "base_uri": "https://localhost:8080/",
          "height": 163
        },
        "id": "JuwRmtH9dhxF",
        "outputId": "0a5c55a0-8163-49b8-d8c4-0b2a2d5222c1"
      },
      "execution_count": null,
      "outputs": [
        {
          "output_type": "execute_result",
          "data": {
            "text/plain": [
              "       pca1      pca2      pca3      pca4      pca5      pca6      pca7  \\\n",
              "0 -1.899099  0.944774  0.378828 -0.642703 -0.188105 -1.783138  0.926400   \n",
              "1 -0.776113  2.148283 -1.199002 -0.546323 -0.196156 -1.637975  0.526471   \n",
              "2 -0.858630  1.111385 -0.517439 -0.515650 -0.317224 -1.583381  0.806793   \n",
              "\n",
              "       pca8      pca9     pca10     pca11     pca12     pca13     pca14  \\\n",
              "0  0.494659  0.218778  0.253505  0.157143 -0.260298  3.225044 -1.058131   \n",
              "1 -0.167535  0.188465  0.207973  0.317870 -0.152842 -0.919548  0.067392   \n",
              "2  0.031117  0.010443  0.212800  0.302197 -0.058665 -0.313828  0.507558   \n",
              "\n",
              "      pca15  \n",
              "0  0.372657  \n",
              "1  0.327544  \n",
              "2 -0.282632  "
            ],
            "text/html": [
              "\n",
              "  <div id=\"df-5f041c53-39ec-4f29-b31d-3b735d183091\" class=\"colab-df-container\">\n",
              "    <div>\n",
              "<style scoped>\n",
              "    .dataframe tbody tr th:only-of-type {\n",
              "        vertical-align: middle;\n",
              "    }\n",
              "\n",
              "    .dataframe tbody tr th {\n",
              "        vertical-align: top;\n",
              "    }\n",
              "\n",
              "    .dataframe thead th {\n",
              "        text-align: right;\n",
              "    }\n",
              "</style>\n",
              "<table border=\"1\" class=\"dataframe\">\n",
              "  <thead>\n",
              "    <tr style=\"text-align: right;\">\n",
              "      <th></th>\n",
              "      <th>pca1</th>\n",
              "      <th>pca2</th>\n",
              "      <th>pca3</th>\n",
              "      <th>pca4</th>\n",
              "      <th>pca5</th>\n",
              "      <th>pca6</th>\n",
              "      <th>pca7</th>\n",
              "      <th>pca8</th>\n",
              "      <th>pca9</th>\n",
              "      <th>pca10</th>\n",
              "      <th>pca11</th>\n",
              "      <th>pca12</th>\n",
              "      <th>pca13</th>\n",
              "      <th>pca14</th>\n",
              "      <th>pca15</th>\n",
              "    </tr>\n",
              "  </thead>\n",
              "  <tbody>\n",
              "    <tr>\n",
              "      <th>0</th>\n",
              "      <td>-1.899099</td>\n",
              "      <td>0.944774</td>\n",
              "      <td>0.378828</td>\n",
              "      <td>-0.642703</td>\n",
              "      <td>-0.188105</td>\n",
              "      <td>-1.783138</td>\n",
              "      <td>0.926400</td>\n",
              "      <td>0.494659</td>\n",
              "      <td>0.218778</td>\n",
              "      <td>0.253505</td>\n",
              "      <td>0.157143</td>\n",
              "      <td>-0.260298</td>\n",
              "      <td>3.225044</td>\n",
              "      <td>-1.058131</td>\n",
              "      <td>0.372657</td>\n",
              "    </tr>\n",
              "    <tr>\n",
              "      <th>1</th>\n",
              "      <td>-0.776113</td>\n",
              "      <td>2.148283</td>\n",
              "      <td>-1.199002</td>\n",
              "      <td>-0.546323</td>\n",
              "      <td>-0.196156</td>\n",
              "      <td>-1.637975</td>\n",
              "      <td>0.526471</td>\n",
              "      <td>-0.167535</td>\n",
              "      <td>0.188465</td>\n",
              "      <td>0.207973</td>\n",
              "      <td>0.317870</td>\n",
              "      <td>-0.152842</td>\n",
              "      <td>-0.919548</td>\n",
              "      <td>0.067392</td>\n",
              "      <td>0.327544</td>\n",
              "    </tr>\n",
              "    <tr>\n",
              "      <th>2</th>\n",
              "      <td>-0.858630</td>\n",
              "      <td>1.111385</td>\n",
              "      <td>-0.517439</td>\n",
              "      <td>-0.515650</td>\n",
              "      <td>-0.317224</td>\n",
              "      <td>-1.583381</td>\n",
              "      <td>0.806793</td>\n",
              "      <td>0.031117</td>\n",
              "      <td>0.010443</td>\n",
              "      <td>0.212800</td>\n",
              "      <td>0.302197</td>\n",
              "      <td>-0.058665</td>\n",
              "      <td>-0.313828</td>\n",
              "      <td>0.507558</td>\n",
              "      <td>-0.282632</td>\n",
              "    </tr>\n",
              "  </tbody>\n",
              "</table>\n",
              "</div>\n",
              "    <div class=\"colab-df-buttons\">\n",
              "\n",
              "  <div class=\"colab-df-container\">\n",
              "    <button class=\"colab-df-convert\" onclick=\"convertToInteractive('df-5f041c53-39ec-4f29-b31d-3b735d183091')\"\n",
              "            title=\"Convert this dataframe to an interactive table.\"\n",
              "            style=\"display:none;\">\n",
              "\n",
              "  <svg xmlns=\"http://www.w3.org/2000/svg\" height=\"24px\" viewBox=\"0 -960 960 960\">\n",
              "    <path d=\"M120-120v-720h720v720H120Zm60-500h600v-160H180v160Zm220 220h160v-160H400v160Zm0 220h160v-160H400v160ZM180-400h160v-160H180v160Zm440 0h160v-160H620v160ZM180-180h160v-160H180v160Zm440 0h160v-160H620v160Z\"/>\n",
              "  </svg>\n",
              "    </button>\n",
              "\n",
              "  <style>\n",
              "    .colab-df-container {\n",
              "      display:flex;\n",
              "      gap: 12px;\n",
              "    }\n",
              "\n",
              "    .colab-df-convert {\n",
              "      background-color: #E8F0FE;\n",
              "      border: none;\n",
              "      border-radius: 50%;\n",
              "      cursor: pointer;\n",
              "      display: none;\n",
              "      fill: #1967D2;\n",
              "      height: 32px;\n",
              "      padding: 0 0 0 0;\n",
              "      width: 32px;\n",
              "    }\n",
              "\n",
              "    .colab-df-convert:hover {\n",
              "      background-color: #E2EBFA;\n",
              "      box-shadow: 0px 1px 2px rgba(60, 64, 67, 0.3), 0px 1px 3px 1px rgba(60, 64, 67, 0.15);\n",
              "      fill: #174EA6;\n",
              "    }\n",
              "\n",
              "    .colab-df-buttons div {\n",
              "      margin-bottom: 4px;\n",
              "    }\n",
              "\n",
              "    [theme=dark] .colab-df-convert {\n",
              "      background-color: #3B4455;\n",
              "      fill: #D2E3FC;\n",
              "    }\n",
              "\n",
              "    [theme=dark] .colab-df-convert:hover {\n",
              "      background-color: #434B5C;\n",
              "      box-shadow: 0px 1px 3px 1px rgba(0, 0, 0, 0.15);\n",
              "      filter: drop-shadow(0px 1px 2px rgba(0, 0, 0, 0.3));\n",
              "      fill: #FFFFFF;\n",
              "    }\n",
              "  </style>\n",
              "\n",
              "    <script>\n",
              "      const buttonEl =\n",
              "        document.querySelector('#df-5f041c53-39ec-4f29-b31d-3b735d183091 button.colab-df-convert');\n",
              "      buttonEl.style.display =\n",
              "        google.colab.kernel.accessAllowed ? 'block' : 'none';\n",
              "\n",
              "      async function convertToInteractive(key) {\n",
              "        const element = document.querySelector('#df-5f041c53-39ec-4f29-b31d-3b735d183091');\n",
              "        const dataTable =\n",
              "          await google.colab.kernel.invokeFunction('convertToInteractive',\n",
              "                                                    [key], {});\n",
              "        if (!dataTable) return;\n",
              "\n",
              "        const docLinkHtml = 'Like what you see? Visit the ' +\n",
              "          '<a target=\"_blank\" href=https://colab.research.google.com/notebooks/data_table.ipynb>data table notebook</a>'\n",
              "          + ' to learn more about interactive tables.';\n",
              "        element.innerHTML = '';\n",
              "        dataTable['output_type'] = 'display_data';\n",
              "        await google.colab.output.renderOutput(dataTable, element);\n",
              "        const docLink = document.createElement('div');\n",
              "        docLink.innerHTML = docLinkHtml;\n",
              "        element.appendChild(docLink);\n",
              "      }\n",
              "    </script>\n",
              "  </div>\n",
              "\n",
              "\n",
              "    <div id=\"df-af6a76c9-b4a2-4f0c-9724-134a6b4732b9\">\n",
              "      <button class=\"colab-df-quickchart\" onclick=\"quickchart('df-af6a76c9-b4a2-4f0c-9724-134a6b4732b9')\"\n",
              "                title=\"Suggest charts\"\n",
              "                style=\"display:none;\">\n",
              "\n",
              "<svg xmlns=\"http://www.w3.org/2000/svg\" height=\"24px\"viewBox=\"0 0 24 24\"\n",
              "     width=\"24px\">\n",
              "    <g>\n",
              "        <path d=\"M19 3H5c-1.1 0-2 .9-2 2v14c0 1.1.9 2 2 2h14c1.1 0 2-.9 2-2V5c0-1.1-.9-2-2-2zM9 17H7v-7h2v7zm4 0h-2V7h2v10zm4 0h-2v-4h2v4z\"/>\n",
              "    </g>\n",
              "</svg>\n",
              "      </button>\n",
              "\n",
              "<style>\n",
              "  .colab-df-quickchart {\n",
              "      --bg-color: #E8F0FE;\n",
              "      --fill-color: #1967D2;\n",
              "      --hover-bg-color: #E2EBFA;\n",
              "      --hover-fill-color: #174EA6;\n",
              "      --disabled-fill-color: #AAA;\n",
              "      --disabled-bg-color: #DDD;\n",
              "  }\n",
              "\n",
              "  [theme=dark] .colab-df-quickchart {\n",
              "      --bg-color: #3B4455;\n",
              "      --fill-color: #D2E3FC;\n",
              "      --hover-bg-color: #434B5C;\n",
              "      --hover-fill-color: #FFFFFF;\n",
              "      --disabled-bg-color: #3B4455;\n",
              "      --disabled-fill-color: #666;\n",
              "  }\n",
              "\n",
              "  .colab-df-quickchart {\n",
              "    background-color: var(--bg-color);\n",
              "    border: none;\n",
              "    border-radius: 50%;\n",
              "    cursor: pointer;\n",
              "    display: none;\n",
              "    fill: var(--fill-color);\n",
              "    height: 32px;\n",
              "    padding: 0;\n",
              "    width: 32px;\n",
              "  }\n",
              "\n",
              "  .colab-df-quickchart:hover {\n",
              "    background-color: var(--hover-bg-color);\n",
              "    box-shadow: 0 1px 2px rgba(60, 64, 67, 0.3), 0 1px 3px 1px rgba(60, 64, 67, 0.15);\n",
              "    fill: var(--button-hover-fill-color);\n",
              "  }\n",
              "\n",
              "  .colab-df-quickchart-complete:disabled,\n",
              "  .colab-df-quickchart-complete:disabled:hover {\n",
              "    background-color: var(--disabled-bg-color);\n",
              "    fill: var(--disabled-fill-color);\n",
              "    box-shadow: none;\n",
              "  }\n",
              "\n",
              "  .colab-df-spinner {\n",
              "    border: 2px solid var(--fill-color);\n",
              "    border-color: transparent;\n",
              "    border-bottom-color: var(--fill-color);\n",
              "    animation:\n",
              "      spin 1s steps(1) infinite;\n",
              "  }\n",
              "\n",
              "  @keyframes spin {\n",
              "    0% {\n",
              "      border-color: transparent;\n",
              "      border-bottom-color: var(--fill-color);\n",
              "      border-left-color: var(--fill-color);\n",
              "    }\n",
              "    20% {\n",
              "      border-color: transparent;\n",
              "      border-left-color: var(--fill-color);\n",
              "      border-top-color: var(--fill-color);\n",
              "    }\n",
              "    30% {\n",
              "      border-color: transparent;\n",
              "      border-left-color: var(--fill-color);\n",
              "      border-top-color: var(--fill-color);\n",
              "      border-right-color: var(--fill-color);\n",
              "    }\n",
              "    40% {\n",
              "      border-color: transparent;\n",
              "      border-right-color: var(--fill-color);\n",
              "      border-top-color: var(--fill-color);\n",
              "    }\n",
              "    60% {\n",
              "      border-color: transparent;\n",
              "      border-right-color: var(--fill-color);\n",
              "    }\n",
              "    80% {\n",
              "      border-color: transparent;\n",
              "      border-right-color: var(--fill-color);\n",
              "      border-bottom-color: var(--fill-color);\n",
              "    }\n",
              "    90% {\n",
              "      border-color: transparent;\n",
              "      border-bottom-color: var(--fill-color);\n",
              "    }\n",
              "  }\n",
              "</style>\n",
              "\n",
              "      <script>\n",
              "        async function quickchart(key) {\n",
              "          const quickchartButtonEl =\n",
              "            document.querySelector('#' + key + ' button');\n",
              "          quickchartButtonEl.disabled = true;  // To prevent multiple clicks.\n",
              "          quickchartButtonEl.classList.add('colab-df-spinner');\n",
              "          try {\n",
              "            const charts = await google.colab.kernel.invokeFunction(\n",
              "                'suggestCharts', [key], {});\n",
              "          } catch (error) {\n",
              "            console.error('Error during call to suggestCharts:', error);\n",
              "          }\n",
              "          quickchartButtonEl.classList.remove('colab-df-spinner');\n",
              "          quickchartButtonEl.classList.add('colab-df-quickchart-complete');\n",
              "        }\n",
              "        (() => {\n",
              "          let quickchartButtonEl =\n",
              "            document.querySelector('#df-af6a76c9-b4a2-4f0c-9724-134a6b4732b9 button');\n",
              "          quickchartButtonEl.style.display =\n",
              "            google.colab.kernel.accessAllowed ? 'block' : 'none';\n",
              "        })();\n",
              "      </script>\n",
              "    </div>\n",
              "\n",
              "    </div>\n",
              "  </div>\n"
            ],
            "application/vnd.google.colaboratory.intrinsic+json": {
              "type": "dataframe",
              "variable_name": "proyecciones",
              "summary": "{\n  \"name\": \"proyecciones\",\n  \"rows\": 30000,\n  \"fields\": [\n    {\n      \"column\": \"pca1\",\n      \"properties\": {\n        \"dtype\": \"number\",\n        \"std\": 2.558032915759319,\n        \"min\": -4.308153918085316,\n        \"max\": 32.12786858694598,\n        \"num_unique_values\": 30000,\n        \"samples\": [\n          -1.0038501143240357,\n          1.947993534445525,\n          0.8762546924717878\n        ],\n        \"semantic_type\": \"\",\n        \"description\": \"\"\n      }\n    },\n    {\n      \"column\": \"pca2\",\n      \"properties\": {\n        \"dtype\": \"number\",\n        \"std\": 2.024869064501311,\n        \"min\": -32.92886426122934,\n        \"max\": 11.490077364714608,\n        \"num_unique_values\": 30000,\n        \"samples\": [\n          1.4442823395911324,\n          -0.3594546870348793,\n          0.4136148286474692\n        ],\n        \"semantic_type\": \"\",\n        \"description\": \"\"\n      }\n    },\n    {\n      \"column\": \"pca3\",\n      \"properties\": {\n        \"dtype\": \"number\",\n        \"std\": 1.246155347973908,\n        \"min\": -54.7699005579307,\n        \"max\": 4.779491532958501,\n        \"num_unique_values\": 30000,\n        \"samples\": [\n          -0.9509144165645939,\n          -0.6010612988561707,\n          1.147852377297438\n        ],\n        \"semantic_type\": \"\",\n        \"description\": \"\"\n      }\n    },\n    {\n      \"column\": \"pca4\",\n      \"properties\": {\n        \"dtype\": \"number\",\n        \"std\": 1.2140234901825564,\n        \"min\": -4.569056115303694,\n        \"max\": 54.69933207533104,\n        \"num_unique_values\": 30000,\n        \"samples\": [\n          -0.7614071606426844,\n          -1.86118882223754,\n          0.19885021702003075\n        ],\n        \"semantic_type\": \"\",\n        \"description\": \"\"\n      }\n    },\n    {\n      \"column\": \"pca5\",\n      \"properties\": {\n        \"dtype\": \"number\",\n        \"std\": 1.0236453679109454,\n        \"min\": -4.151992701629771,\n        \"max\": 14.019552637305381,\n        \"num_unique_values\": 30000,\n        \"samples\": [\n          -1.2783032367796745,\n          0.9380613768117825,\n          1.7745817170545015\n        ],\n        \"semantic_type\": \"\",\n        \"description\": \"\"\n      }\n    },\n    {\n      \"column\": \"pca6\",\n      \"properties\": {\n        \"dtype\": \"number\",\n        \"std\": 0.9927849723900098,\n        \"min\": -4.152086621707437,\n        \"max\": 6.668298076618928,\n        \"num_unique_values\": 30000,\n        \"samples\": [\n          -0.01482278726205617,\n          0.22313642894109634,\n          0.020995383309473176\n        ],\n        \"semantic_type\": \"\",\n        \"description\": \"\"\n      }\n    },\n    {\n      \"column\": \"pca7\",\n      \"properties\": {\n        \"dtype\": \"number\",\n        \"std\": 0.974474899897088,\n        \"min\": -7.840617134628523,\n        \"max\": 26.419966093279665,\n        \"num_unique_values\": 30000,\n        \"samples\": [\n          1.3972985115794765,\n          -0.6396686626056932,\n          0.33026836875804494\n        ],\n        \"semantic_type\": \"\",\n        \"description\": \"\"\n      }\n    },\n    {\n      \"column\": \"pca8\",\n      \"properties\": {\n        \"dtype\": \"number\",\n        \"std\": 0.9525141334442405,\n        \"min\": -26.06349874587566,\n        \"max\": 19.892953458541953,\n        \"num_unique_values\": 30000,\n        \"samples\": [\n          0.255952010519863,\n          -0.3264666965677459,\n          0.3501693952043134\n        ],\n        \"semantic_type\": \"\",\n        \"description\": \"\"\n      }\n    },\n    {\n      \"column\": \"pca9\",\n      \"properties\": {\n        \"dtype\": \"number\",\n        \"std\": 0.9419610430566808,\n        \"min\": -19.275320861094297,\n        \"max\": 23.062623809508604,\n        \"num_unique_values\": 30000,\n        \"samples\": [\n          0.21110233933578168,\n          -0.24399083442841005,\n          0.13478697237382375\n        ],\n        \"semantic_type\": \"\",\n        \"description\": \"\"\n      }\n    },\n    {\n      \"column\": \"pca10\",\n      \"properties\": {\n        \"dtype\": \"number\",\n        \"std\": 0.9333551275782094,\n        \"min\": -39.11548061113098,\n        \"max\": 17.89678725813215,\n        \"num_unique_values\": 30000,\n        \"samples\": [\n          0.16813368504094936,\n          -0.17101267951593185,\n          0.10122113042399897\n        ],\n        \"semantic_type\": \"\",\n        \"description\": \"\"\n      }\n    },\n    {\n      \"column\": \"pca11\",\n      \"properties\": {\n        \"dtype\": \"number\",\n        \"std\": 0.8830756373284628,\n        \"min\": -18.697045318036896,\n        \"max\": 38.60668875891907,\n        \"num_unique_values\": 30000,\n        \"samples\": [\n          0.17095043465506252,\n          -0.17523123078528333,\n          0.006220986112498798\n        ],\n        \"semantic_type\": \"\",\n        \"description\": \"\"\n      }\n    },\n    {\n      \"column\": \"pca12\",\n      \"properties\": {\n        \"dtype\": \"number\",\n        \"std\": 0.8560377918041228,\n        \"min\": -42.24353906444923,\n        \"max\": 22.460824405117464,\n        \"num_unique_values\": 30000,\n        \"samples\": [\n          -0.0744677856928732,\n          -0.015319715781667752,\n          -0.08614280396407968\n        ],\n        \"semantic_type\": \"\",\n        \"description\": \"\"\n      }\n    },\n    {\n      \"column\": \"pca13\",\n      \"properties\": {\n        \"dtype\": \"number\",\n        \"std\": 0.8262497431337659,\n        \"min\": -5.111843936177404,\n        \"max\": 17.64064678808281,\n        \"num_unique_values\": 30000,\n        \"samples\": [\n          -0.32631620609846806,\n          0.05325711789331133,\n          -0.1983245067074648\n        ],\n        \"semantic_type\": \"\",\n        \"description\": \"\"\n      }\n    },\n    {\n      \"column\": \"pca14\",\n      \"properties\": {\n        \"dtype\": \"number\",\n        \"std\": 0.7556116429165392,\n        \"min\": -3.1085958176177786,\n        \"max\": 4.298574337022651,\n        \"num_unique_values\": 30000,\n        \"samples\": [\n          -0.5622312988591238,\n          -0.12066612014477546,\n          -0.9662272649050608\n        ],\n        \"semantic_type\": \"\",\n        \"description\": \"\"\n      }\n    },\n    {\n      \"column\": \"pca15\",\n      \"properties\": {\n        \"dtype\": \"number\",\n        \"std\": 0.7238169911119168,\n        \"min\": -4.315703728970688,\n        \"max\": 3.806424810175996,\n        \"num_unique_values\": 30000,\n        \"samples\": [\n          0.04163932285633698,\n          -0.44180608823031786,\n          0.1208926427962442\n        ],\n        \"semantic_type\": \"\",\n        \"description\": \"\"\n      }\n    }\n  ]\n}"
            }
          },
          "metadata": {},
          "execution_count": 17
        }
      ]
    },
    {
      "cell_type": "code",
      "source": [
        "def scatterPlot(xDF, yDF, algoName):\n",
        "    tempDF = pd.DataFrame(data=xDF, index=xDF.index)\n",
        "    tempDF = pd.concat((tempDF,yDF), axis=1)\n",
        "    nombres_col = tempDF.columns\n",
        "    plt.figure(figsize=(4,4))\n",
        "    sns.scatterplot(x=nombres_col[0], y=nombres_col[1], hue=nombres_col[2], \\\n",
        "               data=tempDF)\n",
        "    ax = plt.gca()"
      ],
      "metadata": {
        "id": "w5HHyPN4pSGS"
      },
      "execution_count": null,
      "outputs": []
    },
    {
      "cell_type": "code",
      "source": [
        "scatterPlot(proyecciones[['pca1','pca2']], df[['default payment next month']], \"PCA\")"
      ],
      "metadata": {
        "colab": {
          "base_uri": "https://localhost:8080/",
          "height": 388
        },
        "id": "5EkqAZDCnm3L",
        "outputId": "40e7ef64-d7de-4101-e9d1-91ad67c943d5"
      },
      "execution_count": null,
      "outputs": [
        {
          "output_type": "display_data",
          "data": {
            "text/plain": [
              "<Figure size 400x400 with 1 Axes>"
            ],
            "image/png": "[encoded data removed]"
          },
          "metadata": {}
        }
      ]
    },
    {
      "cell_type": "code",
      "source": [
        "scatterPlot(proyecciones[['pca2','pca4']], df[['default payment next month']], \"PCA\")"
      ],
      "metadata": {
        "colab": {
          "base_uri": "https://localhost:8080/",
          "height": 388
        },
        "id": "t4Khk-_6qlAj",
        "outputId": "723c619b-24d0-49ff-9bd2-00823e9da26d"
      },
      "execution_count": null,
      "outputs": [
        {
          "output_type": "display_data",
          "data": {
            "text/plain": [
              "<Figure size 400x400 with 1 Axes>"
            ],
            "image/png": "[encoded data removed]"
          },
          "metadata": {}
        }
      ]
    },
    {
      "cell_type": "code",
      "source": [
        "# VEr una proyección Gaussiana, para ver si podríamos hacer una mejor separación entre las clases\n",
        "#----------------------------------\n",
        "from sklearn.random_projection import GaussianRandomProjection\n",
        "\n",
        "n_components = 15\n",
        "eps = 0.7\n",
        "random_state = 2025\n",
        "\n",
        "GRP = GaussianRandomProjection(n_components=n_components, eps=eps,random_state=random_state)\n",
        "\n",
        "X_train_GRP = GRP.fit_transform(X)\n",
        "X_train_GRP = pd.DataFrame(data=X_train_GRP, index=X.index,\n",
        "    columns = ['pca'+str(val+1) for val in np.arange(15)],\n",
        "                           )\n",
        "\n",
        "scatterPlot(X_train_GRP[['pca1','pca2']], Y, \"Gaussian Random Projection\")\n",
        "print(\"Separación de las proyecciones usando GaussianRandomProjection\")"
      ],
      "metadata": {
        "colab": {
          "base_uri": "https://localhost:8080/",
          "height": 406
        },
        "id": "Rip5SSKeNqod",
        "outputId": "b8941894-79de-4f25-a6f4-c81a9a2ad75d"
      },
      "execution_count": null,
      "outputs": [
        {
          "output_type": "stream",
          "name": "stdout",
          "text": [
            "Separación de las proyecciones usando GaussianRandomProjection\n"
          ]
        },
        {
          "output_type": "display_data",
          "data": {
            "text/plain": [
              "<Figure size 400x400 with 1 Axes>"
            ],
            "image/png": "[encoded data removed]"
          },
          "metadata": {}
        }
      ]
    },
    {
      "cell_type": "markdown",
      "source": [
        "#<font color=\"darkred\">**Modelos**\n",
        "**Observación 1**: <font color=\"darkred\"> Considerando que los datos originales presentan alta correlación en algunas variables, usamos PCA para transformas los datos, considerando 15 componentes principales, que dada su naturaleza de las componentes, estas ya no presentan correlación entre ellas.\n",
        "\n",
        "**Observación 2:** <font color=\"darkred\">La variable que usamos para predecir cada uno de los modelos supervisados, son desvalanceados, por lo cual, hay que considerar que es complejo entrenar un modelo que tenga por completo buena capacidad predictiva.\n",
        "\n",
        "* Algunas sugerencias son, hacer una comparativa entre estos casos:\n",
        "    * A. Entrenar modelos con ese desbalance en los datos.\n",
        "    * B. Entrenar modelos con datos balanceados usando submuestreo.\n",
        "    * C. Entrenar modelos con datos balanceados usando sobremuestreo."
      ],
      "metadata": {
        "id": "gPQfX7hiuxGC"
      }
    },
    {
      "cell_type": "markdown",
      "source": [
        "# <font color=\"darkred\"> Caso A. Entrenamiento con los datos desbalanceados.\n",
        "\n",
        "* Es ya usando los datos transformados con PCA"
      ],
      "metadata": {
        "id": "9yKEQ-QIWXWJ"
      }
    },
    {
      "cell_type": "code",
      "source": [
        "# Porcentajes de datos sobre el conjunto de prueba y entrenamiento\n",
        "X_train, X_test, y_train, y_test = train_test_split(\n",
        "    proyecciones, Y, test_size=0.2, random_state=42, stratify=Y\n",
        ")"
      ],
      "metadata": {
        "id": "QlCB0heMsAoA"
      },
      "execution_count": null,
      "outputs": []
    },
    {
      "cell_type": "code",
      "source": [
        "# tamaños de los datos divididos\n",
        "print(\"Shape of X_train: \", X_train.shape)\n",
        "print(\"Shape of y_train: \", y_train.shape)\n",
        "print(\"Shape of X_test: \", X_test.shape)\n",
        "print(\"Shape of y_test: \", y_test.shape)"
      ],
      "metadata": {
        "colab": {
          "base_uri": "https://localhost:8080/"
        },
        "id": "lICcAdOCvjyE",
        "outputId": "71ba2324-e041-41ab-b7e1-74ae7721807d"
      },
      "execution_count": null,
      "outputs": [
        {
          "output_type": "stream",
          "name": "stdout",
          "text": [
            "Shape of X_train:  (24000, 15)\n",
            "Shape of y_train:  (24000, 1)\n",
            "Shape of X_test:  (6000, 15)\n",
            "Shape of y_test:  (6000, 1)\n"
          ]
        }
      ]
    },
    {
      "cell_type": "markdown",
      "source": [
        "## <font color=\"darkred\"> REGRESIÓN LOGÍSTICA"
      ],
      "metadata": {
        "id": "L6K2jOj4Ay0_"
      }
    },
    {
      "cell_type": "code",
      "source": [
        "\n",
        "from sklearn.linear_model import LogisticRegression\n",
        "logreg = LogisticRegression(random_state=16)\n",
        "logreg.fit(X_train, y_train)\n",
        "y_pred = logreg.predict(X_test)"
      ],
      "metadata": {
        "colab": {
          "base_uri": "https://localhost:8080/"
        },
        "id": "IiGQSS3a1uu-",
        "outputId": "b4f24d18-9e8f-4453-dc6d-0b5b978bbdf4"
      },
      "execution_count": null,
      "outputs": [
        {
          "output_type": "stream",
          "name": "stderr",
          "text": [
            "/usr/local/lib/python3.11/dist-packages/sklearn/utils/validation.py:1408: DataConversionWarning: A column-vector y was passed when a 1d array was expected. Please change the shape of y to (n_samples, ), for example using ravel().\n",
            "  y = column_or_1d(y, warn=True)\n"
          ]
        }
      ]
    },
    {
      "cell_type": "code",
      "source": [
        "from sklearn import metrics\n",
        "def mat_confusion(cnf_matrix):\n",
        "  class_names=[0,1] # name  of classes\n",
        "  fig, ax = plt.subplots(figsize=(5, 4))\n",
        "  tick_marks = np.arange(len(class_names))\n",
        "  plt.xticks(tick_marks, class_names)\n",
        "  plt.yticks(tick_marks, class_names)\n",
        "# create heatmap\n",
        "  sns.heatmap(pd.DataFrame(cnf_matrix), annot=True ,fmt='g', cmap=\"Blues\")\n",
        "  ax.xaxis.set_label_position(\"top\")\n",
        "  plt.tight_layout()\n",
        "  plt.title('Confusion matrix', y=1.1)\n",
        "  plt.ylabel('Valor real')\n",
        "  plt.xlabel('Valor predicho')"
      ],
      "metadata": {
        "id": "4NrK8Fh82I9h"
      },
      "execution_count": null,
      "outputs": []
    },
    {
      "cell_type": "code",
      "source": [
        "cnf_matrix = metrics.confusion_matrix(y_test, y_pred)\n",
        "mat_confusion(cnf_matrix)"
      ],
      "metadata": {
        "colab": {
          "base_uri": "https://localhost:8080/",
          "height": 458
        },
        "id": "ELwI4avD42Xr",
        "outputId": "f33daf9b-0f10-453f-c483-42f1165348cd"
      },
      "execution_count": null,
      "outputs": [
        {
          "output_type": "display_data",
          "data": {
            "text/plain": [
              "<Figure size 500x400 with 2 Axes>"
            ],
            "image/png": "[encoded data removed]"
          },
          "metadata": {}
        }
      ]
    },
    {
      "cell_type": "markdown",
      "source": [
        "EL modelo tiene un $80%$ de presición (porcentaje en que clasifica correctamente), sin embargo para este caso donde los datos son desvalanceados no se consideran como una buena medida.\n",
        "\n",
        "\n",
        "Por otro lado, también es necesario preguntarse qué es más  valioso para nosotros:\n",
        "* Clasificar a una persona como no pagará, cuando realmente si lo hará: aquí hay 1,023  casos\n",
        "* o clasificar a una persona como: pagará,  cuando realment no lo hará: aquí son 164 casos"
      ],
      "metadata": {
        "id": "V_AZT3Tx8yWj"
      }
    },
    {
      "cell_type": "code",
      "source": [
        "# Algunas otras métricas que nos ayudarán a tomar la mejor desición\n",
        "from sklearn.metrics import classification_report\n",
        "target_names = ['0','1']\n",
        "print(classification_report(y_test, y_pred, target_names=target_names))"
      ],
      "metadata": {
        "colab": {
          "base_uri": "https://localhost:8080/"
        },
        "id": "T1RInmf63lXo",
        "outputId": "eb7c0bf4-b17d-4fbd-f72c-cc1e507cf237"
      },
      "execution_count": null,
      "outputs": [
        {
          "output_type": "stream",
          "name": "stdout",
          "text": [
            "              precision    recall  f1-score   support\n",
            "\n",
            "           0       0.82      0.96      0.88      4673\n",
            "           1       0.65      0.23      0.34      1327\n",
            "\n",
            "    accuracy                           0.80      6000\n",
            "   macro avg       0.73      0.60      0.61      6000\n",
            "weighted avg       0.78      0.80      0.76      6000\n",
            "\n"
          ]
        }
      ]
    },
    {
      "cell_type": "code",
      "source": [
        "y_pred_proba = logreg.predict_proba(X_test)[::,1]\n",
        "\n",
        "def grafica_ROC(model,y_test, y_pred_proba_model):\n",
        "  fpr, tpr, _ = metrics.roc_curve(y_test,  y_pred_proba_model)\n",
        "  auc = metrics.roc_auc_score(y_test, y_pred_proba_model)\n",
        "  plt.plot(fpr,tpr, label=f'ROC curve (AUC = {float(auc):.2f})', color='red')\n",
        "  plt.xlabel('False Positive Rate (FPR)')\n",
        "  plt.ylabel('True Positive Rate (TPR)')\n",
        "  plt.title(model+'- Curva ROC')\n",
        "  plt.legend()\n",
        "  plt.grid()\n",
        "  plt.show()\n",
        "\n",
        "# curva roc para el modelo de regresión logístico\n",
        "grafica_ROC('LogisticRegression',y_test, y_pred_proba)"
      ],
      "metadata": {
        "colab": {
          "base_uri": "https://localhost:8080/",
          "height": 472
        },
        "id": "WDWQlr1V5K84",
        "outputId": "60a53d63-855e-45cc-e1f6-250d0d70f65e"
      },
      "execution_count": null,
      "outputs": [
        {
          "output_type": "display_data",
          "data": {
            "text/plain": [
              "<Figure size 640x480 with 1 Axes>"
            ],
            "image/png": "[encoded data removed]"
          },
          "metadata": {}
        }
      ]
    },
    {
      "cell_type": "markdown",
      "source": [
        "## <font color=\"darkred\"> XGBOOST"
      ],
      "metadata": {
        "id": "qyrN0egJBBF8"
      }
    },
    {
      "cell_type": "code",
      "source": [
        "#!pip install optuna\n",
        "import optuna"
      ],
      "metadata": {
        "id": "uWXzo9ssAfzn",
        "colab": {
          "base_uri": "https://localhost:8080/"
        },
        "collapsed": true,
        "outputId": "30bbf0a9-b416-4df1-e52b-46239102ccb2"
      },
      "execution_count": null,
      "outputs": [
        {
          "output_type": "stream",
          "name": "stdout",
          "text": [
            "Collecting optuna\n",
            "  Downloading optuna-4.4.0-py3-none-any.whl.metadata (17 kB)\n",
            "Collecting alembic>=1.5.0 (from optuna)\n",
            "  Downloading alembic-1.16.2-py3-none-any.whl.metadata (7.3 kB)\n",
            "Collecting colorlog (from optuna)\n",
            "  Downloading colorlog-6.9.0-py3-none-any.whl.metadata (10 kB)\n",
            "Requirement already satisfied: numpy in /usr/local/lib/python3.11/dist-packages (from optuna) (2.0.2)\n",
            "Requirement already satisfied: packaging>=20.0 in /usr/local/lib/python3.11/dist-packages (from optuna) (24.2)\n",
            "Requirement already satisfied: sqlalchemy>=1.4.2 in /usr/local/lib/python3.11/dist-packages (from optuna) (2.0.41)\n",
            "Requirement already satisfied: tqdm in /usr/local/lib/python3.11/dist-packages (from optuna) (4.67.1)\n",
            "Requirement already satisfied: PyYAML in /usr/local/lib/python3.11/dist-packages (from optuna) (6.0.2)\n",
            "Requirement already satisfied: Mako in /usr/lib/python3/dist-packages (from alembic>=1.5.0->optuna) (1.1.3)\n",
            "Requirement already satisfied: typing-extensions>=4.12 in /usr/local/lib/python3.11/dist-packages (from alembic>=1.5.0->optuna) (4.14.0)\n",
            "Requirement already satisfied: greenlet>=1 in /usr/local/lib/python3.11/dist-packages (from sqlalchemy>=1.4.2->optuna) (3.2.3)\n",
            "Downloading optuna-4.4.0-py3-none-any.whl (395 kB)\n",
            "\u001b[2K   \u001b[90m━━━━━━━━━━━━━━━━━━━━━━━━━━━━━━━━━━━━━━━━\u001b[0m \u001b[32m395.9/395.9 kB\u001b[0m \u001b[31m9.1 MB/s\u001b[0m eta \u001b[36m0:00:00\u001b[0m\n",
            "\u001b[?25hDownloading alembic-1.16.2-py3-none-any.whl (242 kB)\n",
            "\u001b[2K   \u001b[90m━━━━━━━━━━━━━━━━━━━━━━━━━━━━━━━━━━━━━━━━\u001b[0m \u001b[32m242.7/242.7 kB\u001b[0m \u001b[31m12.5 MB/s\u001b[0m eta \u001b[36m0:00:00\u001b[0m\n",
            "\u001b[?25hDownloading colorlog-6.9.0-py3-none-any.whl (11 kB)\n",
            "Installing collected packages: colorlog, alembic, optuna\n",
            "Successfully installed alembic-1.16.2 colorlog-6.9.0 optuna-4.4.0\n"
          ]
        }
      ]
    },
    {
      "cell_type": "code",
      "source": [
        "def objective_xgb(trial):\n",
        "    # Definir conjunto de los  hiperparámetros a optimizar\n",
        "    param_dist_xgb = {\n",
        "        'n_estimators': trial.suggest_int('n_estimators', 100, 1000, step=100),\n",
        "        'learning_rate': trial.suggest_float('learning_rate', 0.001, 0.5),\n",
        "        'max_depth': trial.suggest_int('max_depth', 3, 15),\n",
        "        'subsample': trial.suggest_float('subsample', 0.5, 1),\n",
        "        'colsample_bytree': trial.suggest_float('colsample_bytree', 0.7, 1),\n",
        "        'gamma': trial.suggest_float('gamma', 0, 5),\n",
        "        'lambda': trial.suggest_float('lambda', 0, 10),\n",
        "        'scale_pos_weight': trial.suggest_categorical('scale_pos_weight', [4])\n",
        "    }\n",
        "    xgb = XGBClassifier(**param_dist_xgb, eval_metric='logloss', random_state=42)\n",
        "\n",
        "    stratified_kfold = StratifiedKFold(n_splits=5, shuffle=True, random_state=42)\n",
        "\n",
        "    f1_scores = cross_val_score(xgb, X_train, y_train, scoring='f1', cv=stratified_kfold)\n",
        "\n",
        "    return np.mean(f1_scores)"
      ],
      "metadata": {
        "id": "Q3d_QMcY5Q3e"
      },
      "execution_count": null,
      "outputs": []
    },
    {
      "cell_type": "code",
      "source": [
        "study_xgb = optuna.create_study(direction='maximize')\n",
        "study_xgb.optimize(objective_xgb, n_trials=10)"
      ],
      "metadata": {
        "colab": {
          "base_uri": "https://localhost:8080/"
        },
        "id": "jUUzwAxwCKsh",
        "outputId": "7c793c90-da1a-4802-82eb-9fba22b7a04e"
      },
      "execution_count": null,
      "outputs": [
        {
          "output_type": "stream",
          "name": "stderr",
          "text": [
            "[I 2025-06-27 15:08:07,912] A new study created in memory with name: no-name-f3049645-212a-466f-a904-c3636d2b622d\n",
            "[I 2025-06-27 15:08:12,821] Trial 0 finished with value: 0.4952445033086841 and parameters: {'n_estimators': 100, 'learning_rate': 0.2730286424291146, 'max_depth': 6, 'subsample': 0.6930483306564656, 'colsample_bytree': 0.7130473460073604, 'gamma': 0.8142035582581125, 'lambda': 5.689344539308648, 'scale_pos_weight': 4}. Best is trial 0 with value: 0.4952445033086841.\n",
            "[I 2025-06-27 15:08:16,120] Trial 1 finished with value: 0.4947758616506327 and parameters: {'n_estimators': 400, 'learning_rate': 0.4736305115511099, 'max_depth': 9, 'subsample': 0.9857651509652055, 'colsample_bytree': 0.760388597804996, 'gamma': 4.572305365712972, 'lambda': 7.745521742281587, 'scale_pos_weight': 4}. Best is trial 0 with value: 0.4952445033086841.\n",
            "[I 2025-06-27 15:08:28,588] Trial 2 finished with value: 0.4984964344958918 and parameters: {'n_estimators': 500, 'learning_rate': 0.1570888959857033, 'max_depth': 7, 'subsample': 0.6531072332894462, 'colsample_bytree': 0.735906321151899, 'gamma': 3.7306757787773135, 'lambda': 4.950110249125098, 'scale_pos_weight': 4}. Best is trial 2 with value: 0.4984964344958918.\n",
            "[I 2025-06-27 15:08:40,052] Trial 3 finished with value: 0.478111412677148 and parameters: {'n_estimators': 600, 'learning_rate': 0.3374946326821707, 'max_depth': 6, 'subsample': 0.5949547981172132, 'colsample_bytree': 0.784314508005701, 'gamma': 3.958542094726298, 'lambda': 7.203509790504738, 'scale_pos_weight': 4}. Best is trial 2 with value: 0.4984964344958918.\n",
            "[I 2025-06-27 15:08:53,514] Trial 4 finished with value: 0.47021923319449543 and parameters: {'n_estimators': 300, 'learning_rate': 0.2840198189640558, 'max_depth': 9, 'subsample': 0.5393867542068121, 'colsample_bytree': 0.9550270852000615, 'gamma': 2.980690214834176, 'lambda': 8.100844168545178, 'scale_pos_weight': 4}. Best is trial 2 with value: 0.4984964344958918.\n",
            "[I 2025-06-27 15:09:22,091] Trial 5 finished with value: 0.4514949507285402 and parameters: {'n_estimators': 1000, 'learning_rate': 0.2532550861896909, 'max_depth': 6, 'subsample': 0.5388043846297987, 'colsample_bytree': 0.869325131636395, 'gamma': 0.7628323059533598, 'lambda': 1.0004655174123733, 'scale_pos_weight': 4}. Best is trial 2 with value: 0.4984964344958918.\n",
            "[I 2025-06-27 15:09:40,531] Trial 6 finished with value: 0.4691104779916534 and parameters: {'n_estimators': 700, 'learning_rate': 0.23738748891136652, 'max_depth': 7, 'subsample': 0.5247873983555621, 'colsample_bytree': 0.804588412624313, 'gamma': 2.932264832742785, 'lambda': 5.352598945705149, 'scale_pos_weight': 4}. Best is trial 2 with value: 0.4984964344958918.\n",
            "[I 2025-06-27 15:09:46,407] Trial 7 finished with value: 0.5180859036487137 and parameters: {'n_estimators': 200, 'learning_rate': 0.0986591273438807, 'max_depth': 9, 'subsample': 0.9208161236292296, 'colsample_bytree': 0.9001469175054116, 'gamma': 4.848123561997958, 'lambda': 8.785019316046112, 'scale_pos_weight': 4}. Best is trial 7 with value: 0.5180859036487137.\n",
            "[I 2025-06-27 15:10:05,158] Trial 8 finished with value: 0.5135388870860209 and parameters: {'n_estimators': 400, 'learning_rate': 0.07015949749437868, 'max_depth': 7, 'subsample': 0.6104732519139288, 'colsample_bytree': 0.850199472517903, 'gamma': 3.8165473729151937, 'lambda': 6.7657322880171105, 'scale_pos_weight': 4}. Best is trial 7 with value: 0.5180859036487137.\n",
            "[I 2025-06-27 15:10:16,384] Trial 9 finished with value: 0.4874859212349957 and parameters: {'n_estimators': 1000, 'learning_rate': 0.354368788644019, 'max_depth': 3, 'subsample': 0.730324306853469, 'colsample_bytree': 0.8526301954946672, 'gamma': 3.7594546627960628, 'lambda': 7.564259822459118, 'scale_pos_weight': 4}. Best is trial 7 with value: 0.5180859036487137.\n"
          ]
        }
      ]
    },
    {
      "cell_type": "code",
      "source": [
        "print(\"Mejores hiperparámetros encontrados: \", study_xgb.best_params)"
      ],
      "metadata": {
        "colab": {
          "base_uri": "https://localhost:8080/"
        },
        "id": "HZK_b-B6CO1h",
        "outputId": "d4513efb-e6fd-4da8-abc7-e364e6ce7e76"
      },
      "execution_count": null,
      "outputs": [
        {
          "output_type": "stream",
          "name": "stdout",
          "text": [
            "Mejores hiperparámetros encontrados:  {'n_estimators': 200, 'learning_rate': 0.0986591273438807, 'max_depth': 9, 'subsample': 0.9208161236292296, 'colsample_bytree': 0.9001469175054116, 'gamma': 4.848123561997958, 'lambda': 8.785019316046112, 'scale_pos_weight': 4}\n"
          ]
        }
      ]
    },
    {
      "cell_type": "code",
      "source": [
        "# Nos quedamos con el mejor modelo para evaluarlo\n",
        "best_params_xgb = study_xgb.best_params\n",
        "xgb_final_model = XGBClassifier(**best_params_xgb)\n",
        "xgb_final_model.fit(X_train, y_train)\n",
        "\n",
        "y_pred_xgb = xgb_final_model.predict(X_test)\n",
        "y_pred_xgb_proba = xgb_final_model.predict_proba(X_test)[:, 1]\n",
        "# y_pred_ajusted_xgb = np.where(y_pred_xgb_proba >= 0.453, 1, 0)"
      ],
      "metadata": {
        "id": "sbEei4K_CiQ2"
      },
      "execution_count": null,
      "outputs": []
    },
    {
      "cell_type": "code",
      "source": [
        "print(classification_report(y_test, y_pred_xgb, target_names=target_names))"
      ],
      "metadata": {
        "colab": {
          "base_uri": "https://localhost:8080/"
        },
        "id": "3XxYwg6gESsu",
        "outputId": "b5eedb02-410d-43d4-fa7b-b675ec3e9c85"
      },
      "execution_count": null,
      "outputs": [
        {
          "output_type": "stream",
          "name": "stdout",
          "text": [
            "              precision    recall  f1-score   support\n",
            "\n",
            "           0       0.88      0.80      0.84      4673\n",
            "           1       0.46      0.60      0.52      1327\n",
            "\n",
            "    accuracy                           0.76      6000\n",
            "   macro avg       0.67      0.70      0.68      6000\n",
            "weighted avg       0.79      0.76      0.77      6000\n",
            "\n"
          ]
        }
      ]
    },
    {
      "cell_type": "code",
      "source": [
        "cnf_matrix_xgb =confusion_matrix(y_test, y_pred_xgb)\n",
        "mat_confusion(cnf_matrix_xgb)"
      ],
      "metadata": {
        "colab": {
          "base_uri": "https://localhost:8080/",
          "height": 463
        },
        "id": "0F_PHfRpDqzz",
        "outputId": "b4603e37-5b65-4e4b-c3df-1692f238cd75"
      },
      "execution_count": null,
      "outputs": [
        {
          "output_type": "display_data",
          "data": {
            "text/plain": [
              "<Figure size 500x400 with 2 Axes>"
            ],
            "image/png": "[encoded data removed]"
          },
          "metadata": {}
        }
      ]
    },
    {
      "cell_type": "code",
      "source": [
        "grafica_ROC('XGBoost',y_test, y_pred_xgb_proba)"
      ],
      "metadata": {
        "colab": {
          "base_uri": "https://localhost:8080/",
          "height": 472
        },
        "id": "VceVdyu7aZ2y",
        "outputId": "d505c302-bd5b-4584-cc4c-0f559f251939"
      },
      "execution_count": null,
      "outputs": [
        {
          "output_type": "display_data",
          "data": {
            "text/plain": [
              "<Figure size 640x480 with 1 Axes>"
            ],
            "image/png": "[encoded data removed]"
          },
          "metadata": {}
        }
      ]
    },
    {
      "cell_type": "markdown",
      "source": [
        "# <font color=\"darkred\"> RandomForest"
      ],
      "metadata": {
        "id": "OQ01XcVOUJtV"
      }
    },
    {
      "cell_type": "code",
      "source": [
        "def objective_rf(trial):\n",
        "    # Hiperparámetros para optimizar\n",
        "    n_estimators = trial.suggest_int('n_estimators', 50, 300, step=50)\n",
        "    max_depth = trial.suggest_categorical('max_depth', [5, 7, 10, 13, 15])\n",
        "    min_samples_split = trial.suggest_int('min_samples_split', 2, 10, step=1)\n",
        "    min_samples_leaf = trial.suggest_int('min_samples_leaf', 2, 10, step=2)\n",
        "    class_weight = trial.suggest_categorical('class_weight', ['balanced'])\n",
        "    bootstrap = trial.suggest_categorical('bootstrap', [True, False])\n",
        "\n",
        "    rf = RandomForestClassifier(\n",
        "        n_estimators=n_estimators,\n",
        "        max_depth=max_depth,\n",
        "        min_samples_split=min_samples_split,\n",
        "        min_samples_leaf=min_samples_leaf,\n",
        "        class_weight=class_weight,\n",
        "        bootstrap=bootstrap,\n",
        "        random_state=42\n",
        "    )\n",
        "\n",
        "    stratified_kfold = StratifiedKFold(n_splits=5, shuffle=True, random_state=42)\n",
        "    f1_scores = cross_val_score(rf, X_train, y_train, scoring='f1', cv=stratified_kfold)\n",
        "    return np.mean(f1_scores)\n",
        "\n",
        "study_rf = optuna.create_study(direction='maximize')\n",
        "study_rf.optimize(objective_rf, n_trials=3)"
      ],
      "metadata": {
        "colab": {
          "base_uri": "https://localhost:8080/"
        },
        "collapsed": true,
        "id": "1bHGu9cLT8p_",
        "outputId": "cb726f58-e8dc-46c5-9ca6-00ec1e1140a1"
      },
      "execution_count": null,
      "outputs": [
        {
          "output_type": "stream",
          "name": "stderr",
          "text": [
            "[I 2025-06-27 19:27:14,897] A new study created in memory with name: no-name-3fc7fbbe-6ae2-4569-82af-e0aecdd78fec\n",
            "/usr/local/lib/python3.11/dist-packages/sklearn/base.py:1389: DataConversionWarning: A column-vector y was passed when a 1d array was expected. Please change the shape of y to (n_samples,), for example using ravel().\n",
            "  return fit_method(estimator, *args, **kwargs)\n",
            "/usr/local/lib/python3.11/dist-packages/sklearn/base.py:1389: DataConversionWarning: A column-vector y was passed when a 1d array was expected. Please change the shape of y to (n_samples,), for example using ravel().\n",
            "  return fit_method(estimator, *args, **kwargs)\n",
            "/usr/local/lib/python3.11/dist-packages/sklearn/base.py:1389: DataConversionWarning: A column-vector y was passed when a 1d array was expected. Please change the shape of y to (n_samples,), for example using ravel().\n",
            "  return fit_method(estimator, *args, **kwargs)\n",
            "/usr/local/lib/python3.11/dist-packages/sklearn/base.py:1389: DataConversionWarning: A column-vector y was passed when a 1d array was expected. Please change the shape of y to (n_samples,), for example using ravel().\n",
            "  return fit_method(estimator, *args, **kwargs)\n",
            "/usr/local/lib/python3.11/dist-packages/sklearn/base.py:1389: DataConversionWarning: A column-vector y was passed when a 1d array was expected. Please change the shape of y to (n_samples,), for example using ravel().\n",
            "  return fit_method(estimator, *args, **kwargs)\n",
            "[I 2025-06-27 19:27:39,678] Trial 0 finished with value: 0.5455902112989647 and parameters: {'n_estimators': 50, 'max_depth': 15, 'min_samples_split': 7, 'min_samples_leaf': 8, 'class_weight': 'balanced', 'bootstrap': True}. Best is trial 0 with value: 0.5455902112989647.\n",
            "/usr/local/lib/python3.11/dist-packages/sklearn/base.py:1389: DataConversionWarning: A column-vector y was passed when a 1d array was expected. Please change the shape of y to (n_samples,), for example using ravel().\n",
            "  return fit_method(estimator, *args, **kwargs)\n",
            "/usr/local/lib/python3.11/dist-packages/sklearn/base.py:1389: DataConversionWarning: A column-vector y was passed when a 1d array was expected. Please change the shape of y to (n_samples,), for example using ravel().\n",
            "  return fit_method(estimator, *args, **kwargs)\n",
            "/usr/local/lib/python3.11/dist-packages/sklearn/base.py:1389: DataConversionWarning: A column-vector y was passed when a 1d array was expected. Please change the shape of y to (n_samples,), for example using ravel().\n",
            "  return fit_method(estimator, *args, **kwargs)\n",
            "/usr/local/lib/python3.11/dist-packages/sklearn/base.py:1389: DataConversionWarning: A column-vector y was passed when a 1d array was expected. Please change the shape of y to (n_samples,), for example using ravel().\n",
            "  return fit_method(estimator, *args, **kwargs)\n",
            "/usr/local/lib/python3.11/dist-packages/sklearn/base.py:1389: DataConversionWarning: A column-vector y was passed when a 1d array was expected. Please change the shape of y to (n_samples,), for example using ravel().\n",
            "  return fit_method(estimator, *args, **kwargs)\n",
            "[I 2025-06-27 19:27:47,837] Trial 1 finished with value: 0.5393053576759556 and parameters: {'n_estimators': 50, 'max_depth': 5, 'min_samples_split': 2, 'min_samples_leaf': 6, 'class_weight': 'balanced', 'bootstrap': True}. Best is trial 0 with value: 0.5455902112989647.\n",
            "/usr/local/lib/python3.11/dist-packages/sklearn/base.py:1389: DataConversionWarning: A column-vector y was passed when a 1d array was expected. Please change the shape of y to (n_samples,), for example using ravel().\n",
            "  return fit_method(estimator, *args, **kwargs)\n",
            "/usr/local/lib/python3.11/dist-packages/sklearn/base.py:1389: DataConversionWarning: A column-vector y was passed when a 1d array was expected. Please change the shape of y to (n_samples,), for example using ravel().\n",
            "  return fit_method(estimator, *args, **kwargs)\n",
            "/usr/local/lib/python3.11/dist-packages/sklearn/base.py:1389: DataConversionWarning: A column-vector y was passed when a 1d array was expected. Please change the shape of y to (n_samples,), for example using ravel().\n",
            "  return fit_method(estimator, *args, **kwargs)\n",
            "/usr/local/lib/python3.11/dist-packages/sklearn/base.py:1389: DataConversionWarning: A column-vector y was passed when a 1d array was expected. Please change the shape of y to (n_samples,), for example using ravel().\n",
            "  return fit_method(estimator, *args, **kwargs)\n",
            "/usr/local/lib/python3.11/dist-packages/sklearn/base.py:1389: DataConversionWarning: A column-vector y was passed when a 1d array was expected. Please change the shape of y to (n_samples,), for example using ravel().\n",
            "  return fit_method(estimator, *args, **kwargs)\n",
            "[I 2025-06-27 19:28:06,923] Trial 2 finished with value: 0.5427804725319955 and parameters: {'n_estimators': 50, 'max_depth': 10, 'min_samples_split': 6, 'min_samples_leaf': 6, 'class_weight': 'balanced', 'bootstrap': False}. Best is trial 0 with value: 0.5455902112989647.\n"
          ]
        }
      ]
    },
    {
      "cell_type": "code",
      "source": [
        "print(\"Mejores hiperparámetros encontrados:\", study_rf.best_params)"
      ],
      "metadata": {
        "colab": {
          "base_uri": "https://localhost:8080/"
        },
        "id": "rF8vvFaBW4GG",
        "outputId": "b619d6db-4524-4f32-a474-aa23db5b593f"
      },
      "execution_count": null,
      "outputs": [
        {
          "output_type": "stream",
          "name": "stdout",
          "text": [
            "Mejores hiperparámetros encontrados: {'n_estimators': 50, 'max_depth': 15, 'min_samples_split': 7, 'min_samples_leaf': 8, 'class_weight': 'balanced', 'bootstrap': True}\n"
          ]
        }
      ]
    },
    {
      "cell_type": "code",
      "source": [
        "# Entrenamiento con el mejor modelo\n",
        "\n",
        "best_params_rf = study_rf.best_params\n",
        "rf_final_model = RandomForestClassifier(**best_params_rf)\n",
        "\n",
        "rf_final_model.fit(X_train, y_train)\n",
        "\n",
        "y_pred_rf = rf_final_model.predict(X_test)\n",
        "\n",
        "y_pred_rf_proba = rf_final_model.predict_proba(X_test)[:, 1]\n",
        "# y_pred_ajusted_rf = np.where(y_pred_rf_proba >= 0.5, 1, 0)"
      ],
      "metadata": {
        "colab": {
          "base_uri": "https://localhost:8080/"
        },
        "id": "rPpYDeyVXr59",
        "outputId": "794824ac-7683-45ab-8301-4f5f91697de6"
      },
      "execution_count": null,
      "outputs": [
        {
          "output_type": "stream",
          "name": "stderr",
          "text": [
            "/usr/local/lib/python3.11/dist-packages/sklearn/base.py:1389: DataConversionWarning: A column-vector y was passed when a 1d array was expected. Please change the shape of y to (n_samples,), for example using ravel().\n",
            "  return fit_method(estimator, *args, **kwargs)\n"
          ]
        }
      ]
    },
    {
      "cell_type": "code",
      "source": [
        "print(classification_report(y_test, y_pred_rf, target_names=target_names))"
      ],
      "metadata": {
        "colab": {
          "base_uri": "https://localhost:8080/"
        },
        "id": "AR2CuAAeX2s8",
        "outputId": "c58c8079-8b23-4bc3-990d-d25d2d898f4c"
      },
      "execution_count": null,
      "outputs": [
        {
          "output_type": "stream",
          "name": "stdout",
          "text": [
            "              precision    recall  f1-score   support\n",
            "\n",
            "           0       0.87      0.86      0.86      4673\n",
            "           1       0.52      0.56      0.54      1327\n",
            "\n",
            "    accuracy                           0.79      6000\n",
            "   macro avg       0.70      0.71      0.70      6000\n",
            "weighted avg       0.80      0.79      0.79      6000\n",
            "\n"
          ]
        }
      ]
    },
    {
      "cell_type": "code",
      "source": [
        "cnf_matrix_rf =confusion_matrix(y_test, y_pred_rf)\n",
        "mat_confusion(cnf_matrix_rf)"
      ],
      "metadata": {
        "colab": {
          "base_uri": "https://localhost:8080/",
          "height": 458
        },
        "id": "_PPvY8EAYOzU",
        "outputId": "6b9ca14d-1c0f-4b12-921f-ec120b8e4503"
      },
      "execution_count": null,
      "outputs": [
        {
          "output_type": "display_data",
          "data": {
            "text/plain": [
              "<Figure size 500x400 with 2 Axes>"
            ],
            "image/png": "[encoded data removed]"
          },
          "metadata": {}
        }
      ]
    },
    {
      "cell_type": "code",
      "source": [
        "grafica_ROC('RandomForestClassifier',y_test, y_pred_rf_proba)"
      ],
      "metadata": {
        "colab": {
          "base_uri": "https://localhost:8080/",
          "height": 472
        },
        "id": "X3ry6yoAa3K-",
        "outputId": "ba8f9b2b-ffe4-46dd-ec3e-697c049fa930"
      },
      "execution_count": null,
      "outputs": [
        {
          "output_type": "display_data",
          "data": {
            "text/plain": [
              "<Figure size 640x480 with 1 Axes>"
            ],
            "image/png": "[encoded data removed]"
          },
          "metadata": {}
        }
      ]
    },
    {
      "cell_type": "markdown",
      "source": [
        "# <font color=\"darkred\"> Este paso es sólo validación\n",
        " del porque predecir sobre datos con alta correlación no es buena idea, ya que en este caso la capacidad predictiva del modelo puede ser nada bueno."
      ],
      "metadata": {
        "id": "dKwPv1SutccC"
      }
    },
    {
      "cell_type": "code",
      "source": [
        "X_train, X_test, y_train, y_test = train_test_split(\n",
        "    X, Y, test_size=0.2, random_state=42, stratify=Y)"
      ],
      "metadata": {
        "id": "fVSuoDvSsPkc"
      },
      "execution_count": null,
      "outputs": []
    },
    {
      "cell_type": "code",
      "source": [
        "# tamaños de los datos divididos\n",
        "print(\"Shape of X_train: \", X_train.shape)\n",
        "print(\"Shape of y_train: \", y_train.shape)\n",
        "print(\"Shape of X_test: \", X_test.shape)\n",
        "print(\"Shape of y_test: \", y_test.shape)"
      ],
      "metadata": {
        "colab": {
          "base_uri": "https://localhost:8080/"
        },
        "id": "4s9yYE5Gs5qz",
        "outputId": "5f4f39b2-d5de-42b1-bb92-6f3bb523e9a3"
      },
      "execution_count": null,
      "outputs": [
        {
          "output_type": "stream",
          "name": "stdout",
          "text": [
            "Shape of X_train:  (24000, 24)\n",
            "Shape of y_train:  (24000, 1)\n",
            "Shape of X_test:  (6000, 24)\n",
            "Shape of y_test:  (6000, 1)\n"
          ]
        }
      ]
    },
    {
      "cell_type": "code",
      "source": [
        "from sklearn.linear_model import LogisticRegression\n",
        "logreg = LogisticRegression(random_state=16)\n",
        "logreg.fit(X_train, y_train)\n",
        "y_pred_orig = logreg.predict(X_test)"
      ],
      "metadata": {
        "colab": {
          "base_uri": "https://localhost:8080/"
        },
        "collapsed": true,
        "id": "jQm9_ht8sVZp",
        "outputId": "b6fa2c4f-bcd1-4fbd-ace0-fe695f1a1836"
      },
      "execution_count": null,
      "outputs": [
        {
          "output_type": "stream",
          "name": "stderr",
          "text": [
            "/usr/local/lib/python3.11/dist-packages/sklearn/utils/validation.py:1408: DataConversionWarning: A column-vector y was passed when a 1d array was expected. Please change the shape of y to (n_samples, ), for example using ravel().\n",
            "  y = column_or_1d(y, warn=True)\n",
            "/usr/local/lib/python3.11/dist-packages/sklearn/linear_model/_logistic.py:465: ConvergenceWarning: lbfgs failed to converge (status=1):\n",
            "STOP: TOTAL NO. OF ITERATIONS REACHED LIMIT.\n",
            "\n",
            "Increase the number of iterations (max_iter) or scale the data as shown in:\n",
            "    https://scikit-learn.org/stable/modules/preprocessing.html\n",
            "Please also refer to the documentation for alternative solver options:\n",
            "    https://scikit-learn.org/stable/modules/linear_model.html#logistic-regression\n",
            "  n_iter_i = _check_optimize_result(\n"
          ]
        }
      ]
    },
    {
      "cell_type": "code",
      "source": [
        "cnf_matrix_orig = metrics.confusion_matrix(y_test, y_pred_orig)\n",
        "mat_confusion(cnf_matrix_orig)"
      ],
      "metadata": {
        "colab": {
          "base_uri": "https://localhost:8080/",
          "height": 463
        },
        "id": "voaJ5hmAsXoW",
        "outputId": "1b83bddb-427a-425e-8526-6a2e0011ceca"
      },
      "execution_count": null,
      "outputs": [
        {
          "output_type": "display_data",
          "data": {
            "text/plain": [
              "<Figure size 500x400 with 2 Axes>"
            ],
            "image/png": "[encoded data removed]"
          },
          "metadata": {}
        }
      ]
    },
    {
      "cell_type": "markdown",
      "source": [
        "# <font color=\"darkblue\"> **PROBLEMA DE REGRESIÓN:**\n",
        "<font color=\"darkblue\"> Predicción de la variable PAY_AMT4"
      ],
      "metadata": {
        "id": "Om2_Q6eEBRIS"
      }
    },
    {
      "cell_type": "code",
      "source": [
        "df.head(2)"
      ],
      "metadata": {
        "id": "9ALdMf43tO4P",
        "colab": {
          "base_uri": "https://localhost:8080/",
          "height": 214
        },
        "outputId": "91ff7e11-1540-4bb5-e0af-06b0a651cef0"
      },
      "execution_count": null,
      "outputs": [
        {
          "output_type": "execute_result",
          "data": {
            "text/plain": [
              "   ID  LIMIT_BAL  SEX  EDUCATION  MARRIAGE  AGE  PAY_0  PAY_2  PAY_3  PAY_4  \\\n",
              "0   1      20000    2          2         1   24      2      2     -1     -1   \n",
              "1   2     120000    2          2         2   26     -1      2      0      0   \n",
              "\n",
              "   ...  BILL_AMT4  BILL_AMT5  BILL_AMT6  PAY_AMT1  PAY_AMT2  PAY_AMT3  \\\n",
              "0  ...          0          0          0         0       689         0   \n",
              "1  ...       3272       3455       3261         0      1000      1000   \n",
              "\n",
              "   PAY_AMT4  PAY_AMT5  PAY_AMT6  default payment next month  \n",
              "0         0         0         0                           1  \n",
              "1      1000         0      2000                           1  \n",
              "\n",
              "[2 rows x 25 columns]"
            ],
            "text/html": [
              "\n",
              "  <div id=\"df-b6b9de0c-146f-4773-a53c-840fc4718dec\" class=\"colab-df-container\">\n",
              "    <div>\n",
              "<style scoped>\n",
              "    .dataframe tbody tr th:only-of-type {\n",
              "        vertical-align: middle;\n",
              "    }\n",
              "\n",
              "    .dataframe tbody tr th {\n",
              "        vertical-align: top;\n",
              "    }\n",
              "\n",
              "    .dataframe thead th {\n",
              "        text-align: right;\n",
              "    }\n",
              "</style>\n",
              "<table border=\"1\" class=\"dataframe\">\n",
              "  <thead>\n",
              "    <tr style=\"text-align: right;\">\n",
              "      <th></th>\n",
              "      <th>ID</th>\n",
              "      <th>LIMIT_BAL</th>\n",
              "      <th>SEX</th>\n",
              "      <th>EDUCATION</th>\n",
              "      <th>MARRIAGE</th>\n",
              "      <th>AGE</th>\n",
              "      <th>PAY_0</th>\n",
              "      <th>PAY_2</th>\n",
              "      <th>PAY_3</th>\n",
              "      <th>PAY_4</th>\n",
              "      <th>...</th>\n",
              "      <th>BILL_AMT4</th>\n",
              "      <th>BILL_AMT5</th>\n",
              "      <th>BILL_AMT6</th>\n",
              "      <th>PAY_AMT1</th>\n",
              "      <th>PAY_AMT2</th>\n",
              "      <th>PAY_AMT3</th>\n",
              "      <th>PAY_AMT4</th>\n",
              "      <th>PAY_AMT5</th>\n",
              "      <th>PAY_AMT6</th>\n",
              "      <th>default payment next month</th>\n",
              "    </tr>\n",
              "  </thead>\n",
              "  <tbody>\n",
              "    <tr>\n",
              "      <th>0</th>\n",
              "      <td>1</td>\n",
              "      <td>20000</td>\n",
              "      <td>2</td>\n",
              "      <td>2</td>\n",
              "      <td>1</td>\n",
              "      <td>24</td>\n",
              "      <td>2</td>\n",
              "      <td>2</td>\n",
              "      <td>-1</td>\n",
              "      <td>-1</td>\n",
              "      <td>...</td>\n",
              "      <td>0</td>\n",
              "      <td>0</td>\n",
              "      <td>0</td>\n",
              "      <td>0</td>\n",
              "      <td>689</td>\n",
              "      <td>0</td>\n",
              "      <td>0</td>\n",
              "      <td>0</td>\n",
              "      <td>0</td>\n",
              "      <td>1</td>\n",
              "    </tr>\n",
              "    <tr>\n",
              "      <th>1</th>\n",
              "      <td>2</td>\n",
              "      <td>120000</td>\n",
              "      <td>2</td>\n",
              "      <td>2</td>\n",
              "      <td>2</td>\n",
              "      <td>26</td>\n",
              "      <td>-1</td>\n",
              "      <td>2</td>\n",
              "      <td>0</td>\n",
              "      <td>0</td>\n",
              "      <td>...</td>\n",
              "      <td>3272</td>\n",
              "      <td>3455</td>\n",
              "      <td>3261</td>\n",
              "      <td>0</td>\n",
              "      <td>1000</td>\n",
              "      <td>1000</td>\n",
              "      <td>1000</td>\n",
              "      <td>0</td>\n",
              "      <td>2000</td>\n",
              "      <td>1</td>\n",
              "    </tr>\n",
              "  </tbody>\n",
              "</table>\n",
              "<p>2 rows × 25 columns</p>\n",
              "</div>\n",
              "    <div class=\"colab-df-buttons\">\n",
              "\n",
              "  <div class=\"colab-df-container\">\n",
              "    <button class=\"colab-df-convert\" onclick=\"convertToInteractive('df-b6b9de0c-146f-4773-a53c-840fc4718dec')\"\n",
              "            title=\"Convert this dataframe to an interactive table.\"\n",
              "            style=\"display:none;\">\n",
              "\n",
              "  <svg xmlns=\"http://www.w3.org/2000/svg\" height=\"24px\" viewBox=\"0 -960 960 960\">\n",
              "    <path d=\"M120-120v-720h720v720H120Zm60-500h600v-160H180v160Zm220 220h160v-160H400v160Zm0 220h160v-160H400v160ZM180-400h160v-160H180v160Zm440 0h160v-160H620v160ZM180-180h160v-160H180v160Zm440 0h160v-160H620v160Z\"/>\n",
              "  </svg>\n",
              "    </button>\n",
              "\n",
              "  <style>\n",
              "    .colab-df-container {\n",
              "      display:flex;\n",
              "      gap: 12px;\n",
              "    }\n",
              "\n",
              "    .colab-df-convert {\n",
              "      background-color: #E8F0FE;\n",
              "      border: none;\n",
              "      border-radius: 50%;\n",
              "      cursor: pointer;\n",
              "      display: none;\n",
              "      fill: #1967D2;\n",
              "      height: 32px;\n",
              "      padding: 0 0 0 0;\n",
              "      width: 32px;\n",
              "    }\n",
              "\n",
              "    .colab-df-convert:hover {\n",
              "      background-color: #E2EBFA;\n",
              "      box-shadow: 0px 1px 2px rgba(60, 64, 67, 0.3), 0px 1px 3px 1px rgba(60, 64, 67, 0.15);\n",
              "      fill: #174EA6;\n",
              "    }\n",
              "\n",
              "    .colab-df-buttons div {\n",
              "      margin-bottom: 4px;\n",
              "    }\n",
              "\n",
              "    [theme=dark] .colab-df-convert {\n",
              "      background-color: #3B4455;\n",
              "      fill: #D2E3FC;\n",
              "    }\n",
              "\n",
              "    [theme=dark] .colab-df-convert:hover {\n",
              "      background-color: #434B5C;\n",
              "      box-shadow: 0px 1px 3px 1px rgba(0, 0, 0, 0.15);\n",
              "      filter: drop-shadow(0px 1px 2px rgba(0, 0, 0, 0.3));\n",
              "      fill: #FFFFFF;\n",
              "    }\n",
              "  </style>\n",
              "\n",
              "    <script>\n",
              "      const buttonEl =\n",
              "        document.querySelector('#df-b6b9de0c-146f-4773-a53c-840fc4718dec button.colab-df-convert');\n",
              "      buttonEl.style.display =\n",
              "        google.colab.kernel.accessAllowed ? 'block' : 'none';\n",
              "\n",
              "      async function convertToInteractive(key) {\n",
              "        const element = document.querySelector('#df-b6b9de0c-146f-4773-a53c-840fc4718dec');\n",
              "        const dataTable =\n",
              "          await google.colab.kernel.invokeFunction('convertToInteractive',\n",
              "                                                    [key], {});\n",
              "        if (!dataTable) return;\n",
              "\n",
              "        const docLinkHtml = 'Like what you see? Visit the ' +\n",
              "          '<a target=\"_blank\" href=https://colab.research.google.com/notebooks/data_table.ipynb>data table notebook</a>'\n",
              "          + ' to learn more about interactive tables.';\n",
              "        element.innerHTML = '';\n",
              "        dataTable['output_type'] = 'display_data';\n",
              "        await google.colab.output.renderOutput(dataTable, element);\n",
              "        const docLink = document.createElement('div');\n",
              "        docLink.innerHTML = docLinkHtml;\n",
              "        element.appendChild(docLink);\n",
              "      }\n",
              "    </script>\n",
              "  </div>\n",
              "\n",
              "\n",
              "    <div id=\"df-828df6d7-19b7-4af5-9d93-6d900dbe05f1\">\n",
              "      <button class=\"colab-df-quickchart\" onclick=\"quickchart('df-828df6d7-19b7-4af5-9d93-6d900dbe05f1')\"\n",
              "                title=\"Suggest charts\"\n",
              "                style=\"display:none;\">\n",
              "\n",
              "<svg xmlns=\"http://www.w3.org/2000/svg\" height=\"24px\"viewBox=\"0 0 24 24\"\n",
              "     width=\"24px\">\n",
              "    <g>\n",
              "        <path d=\"M19 3H5c-1.1 0-2 .9-2 2v14c0 1.1.9 2 2 2h14c1.1 0 2-.9 2-2V5c0-1.1-.9-2-2-2zM9 17H7v-7h2v7zm4 0h-2V7h2v10zm4 0h-2v-4h2v4z\"/>\n",
              "    </g>\n",
              "</svg>\n",
              "      </button>\n",
              "\n",
              "<style>\n",
              "  .colab-df-quickchart {\n",
              "      --bg-color: #E8F0FE;\n",
              "      --fill-color: #1967D2;\n",
              "      --hover-bg-color: #E2EBFA;\n",
              "      --hover-fill-color: #174EA6;\n",
              "      --disabled-fill-color: #AAA;\n",
              "      --disabled-bg-color: #DDD;\n",
              "  }\n",
              "\n",
              "  [theme=dark] .colab-df-quickchart {\n",
              "      --bg-color: #3B4455;\n",
              "      --fill-color: #D2E3FC;\n",
              "      --hover-bg-color: #434B5C;\n",
              "      --hover-fill-color: #FFFFFF;\n",
              "      --disabled-bg-color: #3B4455;\n",
              "      --disabled-fill-color: #666;\n",
              "  }\n",
              "\n",
              "  .colab-df-quickchart {\n",
              "    background-color: var(--bg-color);\n",
              "    border: none;\n",
              "    border-radius: 50%;\n",
              "    cursor: pointer;\n",
              "    display: none;\n",
              "    fill: var(--fill-color);\n",
              "    height: 32px;\n",
              "    padding: 0;\n",
              "    width: 32px;\n",
              "  }\n",
              "\n",
              "  .colab-df-quickchart:hover {\n",
              "    background-color: var(--hover-bg-color);\n",
              "    box-shadow: 0 1px 2px rgba(60, 64, 67, 0.3), 0 1px 3px 1px rgba(60, 64, 67, 0.15);\n",
              "    fill: var(--button-hover-fill-color);\n",
              "  }\n",
              "\n",
              "  .colab-df-quickchart-complete:disabled,\n",
              "  .colab-df-quickchart-complete:disabled:hover {\n",
              "    background-color: var(--disabled-bg-color);\n",
              "    fill: var(--disabled-fill-color);\n",
              "    box-shadow: none;\n",
              "  }\n",
              "\n",
              "  .colab-df-spinner {\n",
              "    border: 2px solid var(--fill-color);\n",
              "    border-color: transparent;\n",
              "    border-bottom-color: var(--fill-color);\n",
              "    animation:\n",
              "      spin 1s steps(1) infinite;\n",
              "  }\n",
              "\n",
              "  @keyframes spin {\n",
              "    0% {\n",
              "      border-color: transparent;\n",
              "      border-bottom-color: var(--fill-color);\n",
              "      border-left-color: var(--fill-color);\n",
              "    }\n",
              "    20% {\n",
              "      border-color: transparent;\n",
              "      border-left-color: var(--fill-color);\n",
              "      border-top-color: var(--fill-color);\n",
              "    }\n",
              "    30% {\n",
              "      border-color: transparent;\n",
              "      border-left-color: var(--fill-color);\n",
              "      border-top-color: var(--fill-color);\n",
              "      border-right-color: var(--fill-color);\n",
              "    }\n",
              "    40% {\n",
              "      border-color: transparent;\n",
              "      border-right-color: var(--fill-color);\n",
              "      border-top-color: var(--fill-color);\n",
              "    }\n",
              "    60% {\n",
              "      border-color: transparent;\n",
              "      border-right-color: var(--fill-color);\n",
              "    }\n",
              "    80% {\n",
              "      border-color: transparent;\n",
              "      border-right-color: var(--fill-color);\n",
              "      border-bottom-color: var(--fill-color);\n",
              "    }\n",
              "    90% {\n",
              "      border-color: transparent;\n",
              "      border-bottom-color: var(--fill-color);\n",
              "    }\n",
              "  }\n",
              "</style>\n",
              "\n",
              "      <script>\n",
              "        async function quickchart(key) {\n",
              "          const quickchartButtonEl =\n",
              "            document.querySelector('#' + key + ' button');\n",
              "          quickchartButtonEl.disabled = true;  // To prevent multiple clicks.\n",
              "          quickchartButtonEl.classList.add('colab-df-spinner');\n",
              "          try {\n",
              "            const charts = await google.colab.kernel.invokeFunction(\n",
              "                'suggestCharts', [key], {});\n",
              "          } catch (error) {\n",
              "            console.error('Error during call to suggestCharts:', error);\n",
              "          }\n",
              "          quickchartButtonEl.classList.remove('colab-df-spinner');\n",
              "          quickchartButtonEl.classList.add('colab-df-quickchart-complete');\n",
              "        }\n",
              "        (() => {\n",
              "          let quickchartButtonEl =\n",
              "            document.querySelector('#df-828df6d7-19b7-4af5-9d93-6d900dbe05f1 button');\n",
              "          quickchartButtonEl.style.display =\n",
              "            google.colab.kernel.accessAllowed ? 'block' : 'none';\n",
              "        })();\n",
              "      </script>\n",
              "    </div>\n",
              "\n",
              "    </div>\n",
              "  </div>\n"
            ],
            "application/vnd.google.colaboratory.intrinsic+json": {
              "type": "dataframe",
              "variable_name": "df"
            }
          },
          "metadata": {},
          "execution_count": 87
        }
      ]
    },
    {
      "cell_type": "code",
      "source": [
        "sns.distplot(df['PAY_AMT4'], bins=30, color=\"Orange\")\n",
        "plt.show()"
      ],
      "metadata": {
        "colab": {
          "base_uri": "https://localhost:8080/",
          "height": 449
        },
        "id": "9t_OclsFGSqr",
        "outputId": "27972fd9-0c0f-4db5-b51d-ec9b759cf9a7"
      },
      "execution_count": null,
      "outputs": [
        {
          "output_type": "display_data",
          "data": {
            "text/plain": [
              "<Figure size 640x480 with 1 Axes>"
            ],
            "image/png": "[encoded data removed]"
          },
          "metadata": {}
        }
      ]
    },
    {
      "cell_type": "code",
      "source": [
        "XX = df[['ID', 'LIMIT_BAL', 'SEX', 'EDUCATION', 'MARRIAGE', 'AGE', 'PAY_0',\n",
        "       'PAY_2', 'PAY_3', 'PAY_4', 'PAY_5', 'PAY_6', 'BILL_AMT1', 'BILL_AMT2',\n",
        "       'BILL_AMT3', 'BILL_AMT4', 'BILL_AMT5', 'BILL_AMT6', 'PAY_AMT1',\n",
        "       'PAY_AMT2', 'PAY_AMT3', 'PAY_AMT5', 'PAY_AMT6']]\n",
        "YY = df[['PAY_AMT4']]"
      ],
      "metadata": {
        "id": "ozUgJV8uBoIc"
      },
      "execution_count": 144,
      "outputs": []
    },
    {
      "cell_type": "markdown",
      "source": [
        "# <font color=\"darkblue\"> Modelo lineal"
      ],
      "metadata": {
        "id": "PMh0b4TlHuSp"
      }
    },
    {
      "cell_type": "code",
      "source": [
        "from sklearn.metrics import mean_squared_error\n",
        "from sklearn.linear_model import LinearRegression\n",
        "from sklearn.linear_model import Ridge\n",
        "from sklearn.linear_model import Lasso\n",
        "from sklearn.linear_model import ElasticNet\n",
        "from sklearn.linear_model import RidgeCV\n",
        "from sklearn.linear_model import LassoCV\n",
        "from sklearn.linear_model import ElasticNetCV"
      ],
      "metadata": {
        "id": "WASk8Xw_I4IH"
      },
      "execution_count": 150,
      "outputs": []
    },
    {
      "cell_type": "code",
      "source": [
        "X_train, X_test, y_train, y_test = train_test_split(XX, YY,test_size = 0.30, random_state=0)"
      ],
      "metadata": {
        "id": "VZM7r2DqH5uV"
      },
      "execution_count": 151,
      "outputs": []
    },
    {
      "cell_type": "code",
      "source": [
        "modelo = make_pipeline(StandardScaler(with_mean=True), LinearRegression())\n",
        "modelo.fit(X = X_train, y = y_train)\n",
        "prediccion = modelo.predict(X_test)\n",
        "# Metricas\n",
        "print('r^2: %0.3f'  % modelo.score(X_test,y_test))\n",
        "print('RMSE: %0.3f'  % np.sqrt(mean_squared_error(prediccion,y_test)))"
      ],
      "metadata": {
        "colab": {
          "base_uri": "https://localhost:8080/"
        },
        "id": "LBIznUTrFWxB",
        "outputId": "ead05705-890e-4b1a-babf-6bdc8f7db7cb"
      },
      "execution_count": 152,
      "outputs": [
        {
          "output_type": "stream",
          "name": "stdout",
          "text": [
            "r^2: 0.309\n",
            "RMSE: 13116.901\n"
          ]
        }
      ]
    },
    {
      "cell_type": "code",
      "source": [
        "import xgboost as xgb\n",
        "\n",
        "xgb_r = xgb.XGBRegressor(objective ='reg:linear',  n_estimators =8, max_depth=8, learning_rate=0.49, seed = 123)\n",
        "xgb_r.fit(X_train, y_train)\n",
        "pred_xgb = xgb_r.predict(X_test)\n",
        "\n",
        "print('r^2: %0.3f'  % xgb_r.score(X_test,y_test))\n",
        "print('RMSE: %0.3f'  % np.sqrt(mean_squared_error(pred_xgb,y_test)))"
      ],
      "metadata": {
        "colab": {
          "base_uri": "https://localhost:8080/"
        },
        "id": "33n0jLSyUSN0",
        "outputId": "b58087e0-b754-44bc-93c6-09d8990710e7"
      },
      "execution_count": 224,
      "outputs": [
        {
          "output_type": "stream",
          "name": "stdout",
          "text": [
            "r^2: 0.702\n",
            "RMSE: 8617.754\n"
          ]
        }
      ]
    },
    {
      "cell_type": "code",
      "source": [
        "from xgboost import XGBRegressor\n",
        "def objective(trial):\n",
        "    param = {\n",
        "        \"objective\":\"reg:linear\",\n",
        "        'lambda': trial.suggest_loguniform('lambda', 0.1, 1.0),\n",
        "        'alpha': trial.suggest_loguniform('alpha', 1.0, 5),\n",
        "        'eta': trial.suggest_categorical('eta', [0.3, 0.4, 0.5, 1.0]),\n",
        "        'gamma': trial.suggest_categorical('gamma', [0.1 ,0.2, 4, 5]),\n",
        "        'n_estimators': trial.suggest_int('n_estimators', 1, 10),\n",
        "        'max_depth': trial.suggest_categorical('max_depth', [1, 4, 6, 8])\n",
        "      }\n",
        "    model = XGBRegressor(**param)\n",
        "    model.fit(X_train, y_train)\n",
        "    predict = model.predict(X_test)\n",
        "    mae = np.sqrt(mean_squared_error(predict, y_test))\n",
        "    return mae\n",
        "\n",
        "study = optuna.create_study(direction=\"minimize\")\n",
        "study.optimize(objective, n_trials=8)\n",
        ""
      ],
      "metadata": {
        "colab": {
          "base_uri": "https://localhost:8080/"
        },
        "id": "gYbv2-ZYYSg5",
        "outputId": "0fe281ba-e8eb-466d-83ac-197bdb60dfb5"
      },
      "execution_count": 229,
      "outputs": [
        {
          "output_type": "stream",
          "name": "stderr",
          "text": [
            "[I 2025-06-27 22:40:23,847] A new study created in memory with name: no-name-8de631c6-ee8c-4f75-8fc6-eb190d00be35\n",
            "[I 2025-06-27 22:40:24,176] Trial 0 finished with value: 15583.129339128262 and parameters: {'lambda': 0.443458009582683, 'alpha': 1.1267526155437408, 'eta': 0.3, 'gamma': 4, 'n_estimators': 2, 'max_depth': 1}. Best is trial 0 with value: 15583.129339128262.\n",
            "[I 2025-06-27 22:40:24,757] Trial 1 finished with value: 9393.359782314314 and parameters: {'lambda': 0.15797372737888427, 'alpha': 1.1470005799039096, 'eta': 0.5, 'gamma': 0.1, 'n_estimators': 3, 'max_depth': 8}. Best is trial 1 with value: 9393.359782314314.\n",
            "[I 2025-06-27 22:40:25,173] Trial 2 finished with value: 8475.333149794173 and parameters: {'lambda': 0.9472448294737595, 'alpha': 3.4837541591590897, 'eta': 0.4, 'gamma': 0.1, 'n_estimators': 8, 'max_depth': 6}. Best is trial 2 with value: 8475.333149794173.\n",
            "[I 2025-06-27 22:40:25,424] Trial 3 finished with value: 10289.525936601744 and parameters: {'lambda': 0.7246872416037721, 'alpha': 1.283272935931031, 'eta': 0.5, 'gamma': 0.2, 'n_estimators': 3, 'max_depth': 4}. Best is trial 2 with value: 8475.333149794173.\n",
            "[I 2025-06-27 22:40:25,631] Trial 4 finished with value: 10742.817135183863 and parameters: {'lambda': 0.8136845563235309, 'alpha': 1.2022054360637247, 'eta': 0.3, 'gamma': 0.2, 'n_estimators': 3, 'max_depth': 6}. Best is trial 2 with value: 8475.333149794173.\n",
            "[I 2025-06-27 22:40:25,927] Trial 5 finished with value: 8683.677101320614 and parameters: {'lambda': 0.40447806857353324, 'alpha': 2.9143102537178223, 'eta': 0.4, 'gamma': 5, 'n_estimators': 10, 'max_depth': 4}. Best is trial 2 with value: 8475.333149794173.\n",
            "[I 2025-06-27 22:40:26,095] Trial 6 finished with value: 8856.410559589025 and parameters: {'lambda': 0.2002805872526046, 'alpha': 3.6472763264513945, 'eta': 0.4, 'gamma': 0.2, 'n_estimators': 6, 'max_depth': 8}. Best is trial 2 with value: 8475.333149794173.\n",
            "[I 2025-06-27 22:40:26,215] Trial 7 finished with value: 11479.088117093623 and parameters: {'lambda': 0.7595318421112208, 'alpha': 3.095854858300945, 'eta': 0.5, 'gamma': 5, 'n_estimators': 2, 'max_depth': 4}. Best is trial 2 with value: 8475.333149794173.\n"
          ]
        }
      ]
    },
    {
      "cell_type": "code",
      "source": [
        "print(\"Mejores hiperparámetros encontrados:\", study.best_params)\n"
      ],
      "metadata": {
        "colab": {
          "base_uri": "https://localhost:8080/"
        },
        "id": "6IP3Sxb_bupi",
        "outputId": "f4591597-73ed-45c3-c430-0475234dee19"
      },
      "execution_count": 230,
      "outputs": [
        {
          "output_type": "stream",
          "name": "stdout",
          "text": [
            "Mejores hiperparámetros encontrados: {'lambda': 0.9472448294737595, 'alpha': 3.4837541591590897, 'eta': 0.4, 'gamma': 0.1, 'n_estimators': 8, 'max_depth': 6}\n"
          ]
        }
      ]
    },
    {
      "cell_type": "code",
      "source": [
        "best_params = study.best_params\n",
        "final_model = XGBRegressor(**best_params)\n",
        "\n",
        "final_model.fit(X_train, y_train)\n",
        "\n",
        "y_pred_xgb = final_model.predict(X_test)\n",
        "np.sqrt(mean_squared_error(y_pred_xgb, y_test))"
      ],
      "metadata": {
        "colab": {
          "base_uri": "https://localhost:8080/"
        },
        "id": "jvozBM2kfd4y",
        "outputId": "a0dba2b0-cd59-49c3-8d8f-80bbf9987773"
      },
      "execution_count": 232,
      "outputs": [
        {
          "output_type": "execute_result",
          "data": {
            "text/plain": [
              "np.float64(8475.333149794173)"
            ]
          },
          "metadata": {},
          "execution_count": 232
        }
      ]
    },
    {
      "cell_type": "code",
      "source": [],
      "metadata": {
        "id": "QzzhUQDUiRTF"
      },
      "execution_count": null,
      "outputs": []
    }
  ]
}